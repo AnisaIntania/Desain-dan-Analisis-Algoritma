{
  "nbformat": 4,
  "nbformat_minor": 0,
  "metadata": {
    "colab": {
      "provenance": [],
      "authorship_tag": "ABX9TyOhg5l1gdsUk0WphV4oY9SN",
      "include_colab_link": true
    },
    "kernelspec": {
      "name": "python3",
      "display_name": "Python 3"
    },
    "language_info": {
      "name": "python"
    }
  },
  "cells": [
    {
      "cell_type": "markdown",
      "metadata": {
        "id": "view-in-github",
        "colab_type": "text"
      },
      "source": [
        "<a href=\"https://colab.research.google.com/github/AnisaIntania/Desain-dan-Analisis-Algoritma/blob/main/DAA_Percobaan_6_Anisa.ipynb\" target=\"_parent\"><img src=\"https://colab.research.google.com/assets/colab-badge.svg\" alt=\"Open In Colab\"/></a>"
      ]
    },
    {
      "cell_type": "markdown",
      "source": [
        "**1. Dynamic Programming – Deret Fibonacci (Iteratif)**"
      ],
      "metadata": {
        "id": "IZED9wUJtGi4"
      }
    },
    {
      "cell_type": "code",
      "execution_count": null,
      "metadata": {
        "colab": {
          "base_uri": "https://localhost:8080/"
        },
        "id": "i-fZEFwWs6lq",
        "outputId": "b7bbbcdf-b58f-4299-8c5f-8d93921e0ae0"
      },
      "outputs": [
        {
          "output_type": "stream",
          "name": "stdout",
          "text": [
            "How many terms? 5\n",
            "Fibonacci sequence:\n",
            "0\n",
            "1\n",
            "1\n",
            "2\n",
            "3\n"
          ]
        }
      ],
      "source": [
        "nterms = int(input(\"How many terms? \"))\n",
        "\n",
        "n1, n2 = 0, 1\n",
        "count = 0\n",
        "\n",
        "if nterms <= 0:\n",
        "    print(\"Masukkan bilangan positif\")\n",
        "elif nterms == 1:\n",
        "    print(\"Fibonacci sequence sampai\", nterms, \":\")\n",
        "    print(n1)\n",
        "else:\n",
        "    print(\"Fibonacci sequence:\")\n",
        "    while count < nterms:\n",
        "        print(n1)\n",
        "        nth = n1 + n2  # Jumlah dua suku sebelumnya\n",
        "        n1 = n2\n",
        "        n2 = nth\n",
        "        count += 1"
      ]
    },
    {
      "cell_type": "markdown",
      "source": [
        "**2. Dynamic Programming – Deret Fibonaci 30 angka rekursi ( fungsi memanggil dirinya sendiri) dan bisa di input**"
      ],
      "metadata": {
        "id": "-n45MlLVuuVL"
      }
    },
    {
      "cell_type": "code",
      "source": [
        "def recur_fibo(n):\n",
        "    if n <= 1:\n",
        "        return n\n",
        "    else:\n",
        "        return recur_fibo(n-1) + recur_fibo(n-2) #bagian rekursi\n",
        "\n",
        "nterms = int(input(\"How many terms? \")) #bagian input\n",
        "\n",
        "if nterms <= 0:\n",
        "    print(\"Please enter a positive integer\")\n",
        "else:\n",
        "    print(\"Fibonacci sequence:\")\n",
        "    for i in range(nterms):\n",
        "        print(recur_fibo(i))"
      ],
      "metadata": {
        "colab": {
          "base_uri": "https://localhost:8080/"
        },
        "id": "yCmcoF0fu4sN",
        "outputId": "3813b363-5355-42d9-fc78-fc7d27d351a8"
      },
      "execution_count": null,
      "outputs": [
        {
          "output_type": "stream",
          "name": "stdout",
          "text": [
            "How many terms? 30\n",
            "Fibonacci sequence:\n",
            "0\n",
            "1\n",
            "1\n",
            "2\n",
            "3\n",
            "5\n",
            "8\n",
            "13\n",
            "21\n",
            "34\n",
            "55\n",
            "89\n",
            "144\n",
            "233\n",
            "377\n",
            "610\n",
            "987\n",
            "1597\n",
            "2584\n",
            "4181\n",
            "6765\n",
            "10946\n",
            "17711\n",
            "28657\n",
            "46368\n",
            "75025\n",
            "121393\n",
            "196418\n",
            "317811\n",
            "514229\n"
          ]
        }
      ]
    },
    {
      "cell_type": "markdown",
      "source": [
        "**Algortima Greedy - Traveling Salesman Problem (Exact / Brute Force)**"
      ],
      "metadata": {
        "id": "y6K-Tay8t21G"
      }
    },
    {
      "cell_type": "code",
      "source": [
        "import itertools, random, math\n",
        "\n",
        "# Representasi kota sebagai titik koordinat (pakai bilangan kompleks biar gampang)\n",
        "City = complex\n",
        "\n",
        "def distance(A, B):\n",
        "    return abs(A - B)  # hitung jarak antara dua titik\n",
        "\n",
        "def total_distance(tour):\n",
        "    # jumlahkan jarak antar kota secara berurutan\n",
        "    return sum(distance(tour[i], tour[i-1]) for i in range(len(tour)))\n",
        "\n",
        "def shortest(tours):\n",
        "    # pilih tour dengan total jarak paling kecil\n",
        "    return min(tours, key=total_distance)\n",
        "\n",
        "def alltours(cities):\n",
        "    # semua kombinasi rute (tanpa balik urutan)\n",
        "    start = first(cities)\n",
        "    return [[start] + list(tour) for tour in itertools.permutations(cities - {start})]\n",
        "\n",
        "def first(collection):\n",
        "    # ambil elemen pertama dari koleksi\n",
        "    for x in collection:\n",
        "        return x\n",
        "\n",
        "def exact_TSP(cities):\n",
        "    # brute force semua rute\n",
        "    return shortest(alltours(cities))\n",
        "\n",
        "def Cities(n):\n",
        "    # bikin kota dengan koordinat random\n",
        "    return set(City(random.randrange(10, 890), random.randrange(10, 590)) for c in range(n))\n",
        "\n",
        "# Contoh 8 kota\n",
        "random.seed('seed')\n",
        "cities8 = Cities(8)\n",
        "tour = exact_TSP(cities8)\n",
        "\n",
        "print(tour)\n",
        "print(\"Total jarak:\", total_distance(tour))"
      ],
      "metadata": {
        "colab": {
          "base_uri": "https://localhost:8080/"
        },
        "id": "CBk4Irfkt4Wr",
        "outputId": "f17ff425-57be-43b8-8d35-1ac782f9f15d"
      },
      "execution_count": null,
      "outputs": [
        {
          "output_type": "stream",
          "name": "stdout",
          "text": [
            "[(551+542j), (684+435j), (800+430j), (498+96j), (151+70j), (54+361j), (252+365j), (303+506j)]\n",
            "Total jarak: 1990.3883723135523\n"
          ]
        }
      ]
    },
    {
      "cell_type": "markdown",
      "source": [
        "**Algoritma Greedy - Traveling Salesman Problem**"
      ],
      "metadata": {
        "id": "689SmDIfuEqk"
      }
    },
    {
      "cell_type": "code",
      "source": [
        "def nearest_neighbor(A, cities):\n",
        "    return min(cities, key=lambda x: distance(x, A))  # cari kota terdekat\n",
        "\n",
        "def greedy_TSP(cities, start=None):\n",
        "    if start is None:\n",
        "        start = first(cities)\n",
        "    tour = [start]\n",
        "    unvisited = cities - {start}\n",
        "    while unvisited:\n",
        "        C = nearest_neighbor(tour[-1], unvisited)\n",
        "        tour.append(C)\n",
        "        unvisited.remove(C)\n",
        "    return tour\n",
        "\n",
        "tour_greedy = greedy_TSP(cities8)\n",
        "print(tour_greedy)\n",
        "print(\"Total jarak (greedy):\", total_distance(tour_greedy))"
      ],
      "metadata": {
        "colab": {
          "base_uri": "https://localhost:8080/"
        },
        "id": "QW39PPkTuIvu",
        "outputId": "84d57b5e-d804-468f-c977-e701081f9ba7"
      },
      "execution_count": null,
      "outputs": [
        {
          "output_type": "stream",
          "name": "stdout",
          "text": [
            "[(551+542j), (684+435j), (800+430j), (498+96j), (151+70j), (54+361j), (252+365j), (303+506j)]\n",
            "Total jarak (greedy): 1990.3883723135523\n"
          ]
        }
      ]
    },
    {
      "cell_type": "markdown",
      "source": [
        "**Algoritma Greedy – Penukaran Uang (Coin Change Problem)**"
      ],
      "metadata": {
        "id": "uN79ZImAyMUg"
      }
    },
    {
      "cell_type": "code",
      "source": [
        "# Strategi Greedy: pilih koin terbesar dulu\n",
        "def greedy_coin_change(koin, jumlah):\n",
        "    hasil = []\n",
        "    for c in koin:\n",
        "        while jumlah >= c:\n",
        "            jumlah -= c\n",
        "            hasil.append(c)\n",
        "    return hasil\n",
        "\n",
        "koin = [10, 7, 1] #yg tersedia\n",
        "jumlah = 29 #jumlah yg diminta\n",
        "print(\"Koin yang dipilih:\", greedy_coin_change(koin, jumlah))\n",
        "# Catatan: hasil greedy belum tentu paling optimal"
      ],
      "metadata": {
        "colab": {
          "base_uri": "https://localhost:8080/"
        },
        "id": "1Uuf6wgVyM1U",
        "outputId": "e35a7c11-6e8a-4129-9f0a-ce6817de0db7"
      },
      "execution_count": null,
      "outputs": [
        {
          "output_type": "stream",
          "name": "stdout",
          "text": [
            "Koin yang dipilih: [10, 10, 7, 1, 1]\n"
          ]
        }
      ]
    },
    {
      "cell_type": "markdown",
      "source": [
        "**Algoritma Greedy - Huffman Coding**"
      ],
      "metadata": {
        "id": "W8bGSgesuRxe"
      }
    },
    {
      "cell_type": "code",
      "source": [
        "string = 'BCAADDDCCACACAC'\n",
        "\n",
        "# Bikin node pohon\n",
        "class NodeTree(object):\n",
        "    def __init__(self, left=None, right=None):\n",
        "        self.left = left\n",
        "        self.right = right\n",
        "    def children(self):\n",
        "        return (self.left, self.right)\n",
        "\n",
        "# Fungsi rekursif buat ngasih kode biner\n",
        "def huffman_code_tree(node, left=True, binString=''):\n",
        "    if type(node) is str:\n",
        "        return {node: binString}\n",
        "    (l, r) = node.children()\n",
        "    d = {}\n",
        "    d.update(huffman_code_tree(l, True, binString + '0'))   # kiri = 0\n",
        "    d.update(huffman_code_tree(r, False, binString + '1'))  # kanan = 1\n",
        "    return d\n",
        "\n",
        "# Hitung frekuensi tiap huruf\n",
        "freq = {}\n",
        "for c in string:\n",
        "    freq[c] = freq.get(c, 0) + 1\n",
        "\n",
        "# Urutkan dari yang paling sering\n",
        "freq = sorted(freq.items(), key=lambda x: x[1], reverse=True)\n",
        "\n",
        "# Gabungkan node sesuai Huffman\n",
        "nodes = freq\n",
        "while len(nodes) > 1:\n",
        "    (key1, c1) = nodes[-1]\n",
        "    (key2, c2) = nodes[-2]\n",
        "    nodes = nodes[:-2]\n",
        "    node = NodeTree(key1, key2)\n",
        "    nodes.append((node, c1 + c2))\n",
        "    nodes = sorted(nodes, key=lambda x: x[1], reverse=True)\n",
        "\n",
        "# Buat kode Huffman\n",
        "huffmanCode = huffman_code_tree(nodes[0][0])\n",
        "\n",
        "# Tampilkan hasil\n",
        "print(' Char | Huffman code ')\n",
        "print('---------------------')\n",
        "for (char, frequency) in freq:\n",
        "    print('%-4r |%12s ' % (char, huffmanCode[char]))"
      ],
      "metadata": {
        "colab": {
          "base_uri": "https://localhost:8080/"
        },
        "id": "3YAiaNXHuVQi",
        "outputId": "b78d9027-83ae-4988-aaf3-7513da958263"
      },
      "execution_count": null,
      "outputs": [
        {
          "output_type": "stream",
          "name": "stdout",
          "text": [
            " Char | Huffman code \n",
            "---------------------\n",
            "'C'  |           0 \n",
            "'A'  |          11 \n",
            "'D'  |         101 \n",
            "'B'  |         100 \n"
          ]
        }
      ]
    },
    {
      "cell_type": "code",
      "source": [],
      "metadata": {
        "id": "5KwBmEHqvrxI"
      },
      "execution_count": null,
      "outputs": []
    }
  ]
}