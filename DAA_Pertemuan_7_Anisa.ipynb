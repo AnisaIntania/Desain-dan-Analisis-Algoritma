{
  "nbformat": 4,
  "nbformat_minor": 0,
  "metadata": {
    "colab": {
      "provenance": [],
      "authorship_tag": "ABX9TyPuNK8zW8K2P/jGACTjRnH8",
      "include_colab_link": true
    },
    "kernelspec": {
      "name": "python3",
      "display_name": "Python 3"
    },
    "language_info": {
      "name": "python"
    }
  },
  "cells": [
    {
      "cell_type": "markdown",
      "metadata": {
        "id": "view-in-github",
        "colab_type": "text"
      },
      "source": [
        "<a href=\"https://colab.research.google.com/github/AnisaIntania/Desain-dan-Analisis-Algoritma/blob/main/DAA_Pertemuan_7_Anisa.ipynb\" target=\"_parent\"><img src=\"https://colab.research.google.com/assets/colab-badge.svg\" alt=\"Open In Colab\"/></a>"
      ]
    },
    {
      "cell_type": "markdown",
      "source": [
        "**1. Faktorial**"
      ],
      "metadata": {
        "id": "9qPFatOET4Nu"
      }
    },
    {
      "cell_type": "code",
      "execution_count": 1,
      "metadata": {
        "colab": {
          "base_uri": "https://localhost:8080/"
        },
        "id": "OiQevm8GT2I7",
        "outputId": "2c3a6980-e97c-4df1-b21b-65ffd28320ce"
      },
      "outputs": [
        {
          "output_type": "stream",
          "name": "stdout",
          "text": [
            "Masukan nilai n: 6\n",
            "Hasil dari 6! = 720\n"
          ]
        }
      ],
      "source": [
        "def faktorial(n):\n",
        "    if (n == 1):\n",
        "        return n\n",
        "    return faktorial(n - 1) * n\n",
        "\n",
        "n = int(input(\"Masukan nilai n: \"))  # input nilai\n",
        "print(f\"Hasil dari {n}! =\", faktorial(n))  # output nilai"
      ]
    },
    {
      "cell_type": "markdown",
      "source": [
        "**2. Perkalian Matriks**"
      ],
      "metadata": {
        "id": "cEZdqgBBUHhh"
      }
    },
    {
      "cell_type": "code",
      "source": [
        "mat1 = [\n",
        "    [7, 0],\n",
        "    [4, 6]\n",
        "]\n",
        "\n",
        "mat2 = [\n",
        "    [3, 0],\n",
        "    [5, 2]\n",
        "]\n",
        "\n",
        "mat3 = []\n",
        "\n",
        "for x in range(0, len(mat1)):\n",
        "    row = []\n",
        "    for y in range(0, len(mat1[0])):\n",
        "        total = 0\n",
        "        for z in range(0, len(mat1)):\n",
        "            total = total + (mat1[x][z] * mat2[z][y])\n",
        "        row.append(total)\n",
        "    mat3.append(row)\n",
        "\n",
        "for x in range(0, len(mat3)):\n",
        "    for y in range(0, len(mat3[0])):\n",
        "        print(mat3[x][y], end=' ')\n",
        "    print()"
      ],
      "metadata": {
        "colab": {
          "base_uri": "https://localhost:8080/"
        },
        "id": "j_oALBdQUNQ1",
        "outputId": "8870d7ee-ab61-4c5c-ba2a-18128502eaf9"
      },
      "execution_count": 2,
      "outputs": [
        {
          "output_type": "stream",
          "name": "stdout",
          "text": [
            "21 0 \n",
            "42 12 \n"
          ]
        }
      ]
    },
    {
      "cell_type": "markdown",
      "source": [
        "**3. Mencari Elemen Terbesar**"
      ],
      "metadata": {
        "id": "yMULAENNUTP5"
      }
    },
    {
      "cell_type": "code",
      "source": [
        "def nilai_maksimal(deret_bilangan):\n",
        "    nilai_terbesar = deret_bilangan[0]\n",
        "    for nilai in deret_bilangan:\n",
        "        if nilai > nilai_terbesar:\n",
        "            nilai_terbesar = nilai\n",
        "    return nilai_terbesar\n",
        "\n",
        "a = [3, 20, 100, -35, 50]\n",
        "\n",
        "print(a)\n",
        "print(\"Nilai terbesar:\", nilai_maksimal(a))"
      ],
      "metadata": {
        "colab": {
          "base_uri": "https://localhost:8080/"
        },
        "id": "Pf__VreqUXAw",
        "outputId": "b4ba9562-454f-4713-ea61-c85eac6bc4c2"
      },
      "execution_count": 3,
      "outputs": [
        {
          "output_type": "stream",
          "name": "stdout",
          "text": [
            "[3, 20, 100, -35, 50]\n",
            "Nilai terbesar: 100\n"
          ]
        }
      ]
    },
    {
      "cell_type": "markdown",
      "source": [
        "**4. Squential Search**"
      ],
      "metadata": {
        "id": "RvgozRa2Ue-E"
      }
    },
    {
      "cell_type": "code",
      "source": [
        "def sequentialSearch(alist, item):\n",
        "    pos = 0\n",
        "    found = False\n",
        "\n",
        "    while pos < len(alist) and not found:\n",
        "        if alist[pos] == item:\n",
        "            found = True\n",
        "        else:\n",
        "            pos = pos + 1\n",
        "    return found\n",
        "\n",
        "testlist = [1, 2, 32, 8, 17, 19, 42, 13, 0]\n",
        "print(sequentialSearch(testlist, 3))  # False\n",
        "print(sequentialSearch(testlist, 2))  # True"
      ],
      "metadata": {
        "colab": {
          "base_uri": "https://localhost:8080/"
        },
        "id": "nWNUdGaSUieC",
        "outputId": "695357f8-527b-471a-d566-5d484c98a6b5"
      },
      "execution_count": 4,
      "outputs": [
        {
          "output_type": "stream",
          "name": "stdout",
          "text": [
            "False\n",
            "True\n"
          ]
        }
      ]
    },
    {
      "cell_type": "markdown",
      "source": [
        "**5. Bubble Sort**"
      ],
      "metadata": {
        "id": "HfsjJjl8Ul17"
      }
    },
    {
      "cell_type": "code",
      "source": [
        "def bubbleSort(alist):\n",
        "    for passnum in range(len(alist) - 1, 0, -1):\n",
        "        for i in range(passnum):\n",
        "            if alist[i] > alist[i + 1]:\n",
        "                temp = alist[i]\n",
        "                alist[i] = alist[i + 1]\n",
        "                alist[i + 1] = temp\n",
        "\n",
        "alist = [54, 26, 93, 17, 77, 31, 44, 55, 20]\n",
        "bubbleSort(alist)\n",
        "print(alist)"
      ],
      "metadata": {
        "colab": {
          "base_uri": "https://localhost:8080/"
        },
        "id": "v6iJCBPDUo-r",
        "outputId": "8470cd5e-6ad4-4d6b-a934-10660e80ddf6"
      },
      "execution_count": 5,
      "outputs": [
        {
          "output_type": "stream",
          "name": "stdout",
          "text": [
            "[17, 20, 26, 31, 44, 54, 55, 77, 93]\n"
          ]
        }
      ]
    },
    {
      "cell_type": "markdown",
      "source": [
        "**6. Uji Bilangan Prima**"
      ],
      "metadata": {
        "id": "-VfnRekiUsjz"
      }
    },
    {
      "cell_type": "code",
      "source": [
        "# Uji Keprimaan\n",
        "x = int(input('Input satu angka bulat: '))\n",
        "\n",
        "angka_prima = True\n",
        "if (x == 0) or (x == 1):\n",
        "    angka_prima = False\n",
        "else:\n",
        "    for i in range(2, (x // 2)):\n",
        "        if (x % i) == 0:\n",
        "            angka_prima = False\n",
        "            break\n",
        "\n",
        "if (angka_prima):\n",
        "    print(x, 'adalah angka prima')\n",
        "else:\n",
        "    print(x, 'bukan angka prima')"
      ],
      "metadata": {
        "colab": {
          "base_uri": "https://localhost:8080/"
        },
        "id": "X-aLfhvoUx8D",
        "outputId": "a134e55c-b37f-46b5-85e6-add6ee3fa39f"
      },
      "execution_count": 6,
      "outputs": [
        {
          "output_type": "stream",
          "name": "stdout",
          "text": [
            "Input satu angka bulat: 7\n",
            "7 adalah angka prima\n"
          ]
        }
      ]
    },
    {
      "cell_type": "markdown",
      "source": [
        "**7. Menghitung Poynomial**"
      ],
      "metadata": {
        "id": "_XTe9FfwU7tH"
      }
    },
    {
      "cell_type": "code",
      "source": [
        "def polynomial_py(a, x):\n",
        "    result = 0\n",
        "    for n, a_n in enumerate(a):\n",
        "        x_power_n = 1\n",
        "        for i in range(n):\n",
        "            x_power_n *= x\n",
        "        result += a_n * x_power_n\n",
        "    return result\n",
        "\n",
        "a = [1, 2, 0, 3]   # coefficients\n",
        "x = 1.5\n",
        "print(polynomial_py(a, x))  # 14.125"
      ],
      "metadata": {
        "colab": {
          "base_uri": "https://localhost:8080/"
        },
        "id": "UvFqsFFPVAZg",
        "outputId": "1402a62f-c41e-4a88-f0e4-10acb4ada7b4"
      },
      "execution_count": 7,
      "outputs": [
        {
          "output_type": "stream",
          "name": "stdout",
          "text": [
            "14.125\n"
          ]
        }
      ]
    },
    {
      "cell_type": "markdown",
      "source": [
        "**8. Matching Substring in String**"
      ],
      "metadata": {
        "id": "Gpvzwz0uVGj7"
      }
    },
    {
      "cell_type": "code",
      "source": [
        "# Get matching substrings in string\n",
        "# initializing string\n",
        "test_str = \"GfG is good website\"\n",
        "\n",
        "# initializing potential substrings\n",
        "test_list = [\"GfG\", \"site\", \"CS\", \"geek\", \"Tutorial\"]\n",
        "\n",
        "# printing original string\n",
        "print(\"The original string is : \" + test_str)\n",
        "\n",
        "# printing potential strings list\n",
        "print(\"The original list is : \" + str(test_list))\n",
        "\n",
        "# using list comprehension\n",
        "# Get matching substrings in string\n",
        "res = [sub for sub in test_list if sub in test_str]\n",
        "\n",
        "# printing result\n",
        "print(\"The list of found substrings : \" + str(res))"
      ],
      "metadata": {
        "colab": {
          "base_uri": "https://localhost:8080/"
        },
        "id": "1UwpHXTZVMwG",
        "outputId": "eccd8fdb-21ad-4747-e94e-fe24a4fea429"
      },
      "execution_count": 8,
      "outputs": [
        {
          "output_type": "stream",
          "name": "stdout",
          "text": [
            "The original string is : GfG is good website\n",
            "The original list is : ['GfG', 'site', 'CS', 'geek', 'Tutorial']\n",
            "The list of found substrings : ['GfG', 'site']\n"
          ]
        }
      ]
    },
    {
      "cell_type": "markdown",
      "source": [
        "**9. Mencari Pasangan Titik Jarak Terdekat**"
      ],
      "metadata": {
        "id": "e7j4LAijVPPo"
      }
    },
    {
      "cell_type": "code",
      "source": [
        "from math import sqrt\n",
        "from random import randint\n",
        "\n",
        "titik = []\n",
        "n = int(input('Masukkan jumlah titik yang ingin Anda cari jaraknya: '))\n",
        "for i in range(0, n):\n",
        "    titik.append((randint(0, 100), randint(0, 100)))\n",
        "print('Titik:\\n', titik)\n",
        "\n",
        "def hitungJarak(lis):\n",
        "    lisjarak = []\n",
        "    for i in range(0, len(lis) - 1):\n",
        "        for j in range(i + 1, len(lis)):\n",
        "            jarak = sqrt((lis[i][0] - lis[j][0])**2 + (lis[i][1] - lis[j][1])**2)\n",
        "            lisjarak.append(jarak)\n",
        "            print('Titik:', lis[i], ', Titik:', lis[j], ', Jarak:', jarak)\n",
        "    return min(lisjarak)\n",
        "\n",
        "print('Jarak terdekat:\\n', hitungJarak(titik))"
      ],
      "metadata": {
        "colab": {
          "base_uri": "https://localhost:8080/"
        },
        "id": "E1KuGPDdVURO",
        "outputId": "e4bb5177-2034-4c29-cfe7-946b21a00c68"
      },
      "execution_count": 9,
      "outputs": [
        {
          "output_type": "stream",
          "name": "stdout",
          "text": [
            "Masukkan jumlah titik yang ingin Anda cari jaraknya: 4\n",
            "Titik:\n",
            " [(87, 8), (24, 38), (1, 85), (72, 74)]\n",
            "Titik: (87, 8) , Titik: (24, 38) , Jarak: 69.77822009767804\n",
            "Titik: (87, 8) , Titik: (1, 85) , Jarak: 115.43396380615195\n",
            "Titik: (87, 8) , Titik: (72, 74) , Jarak: 67.68308503607086\n",
            "Titik: (24, 38) , Titik: (1, 85) , Jarak: 52.32590180780452\n",
            "Titik: (24, 38) , Titik: (72, 74) , Jarak: 60.0\n",
            "Titik: (1, 85) , Titik: (72, 74) , Jarak: 71.84705978674423\n",
            "Jarak terdekat:\n",
            " 52.32590180780452\n"
          ]
        }
      ]
    },
    {
      "cell_type": "markdown",
      "source": [
        "**10. Algoritma Burte Force: Linear Search**"
      ],
      "metadata": {
        "id": "664gyt9XVaKP"
      }
    },
    {
      "cell_type": "code",
      "source": [
        "# Find Maximum Value in Linear Search\n",
        "def find_maximum(lst):\n",
        "    max = None\n",
        "    for el in lst:\n",
        "        if max == None or el > max:\n",
        "            max = el\n",
        "    return max\n",
        "\n",
        "test_scores = [88, 93, 75, 100, 80, 67, 71, 92, 90, 83]\n",
        "print(find_maximum(test_scores))  # returns 100"
      ],
      "metadata": {
        "colab": {
          "base_uri": "https://localhost:8080/"
        },
        "id": "ZnspSK61Vfxj",
        "outputId": "551c6a11-4c62-49a7-a12a-e892bbf6bcd5"
      },
      "execution_count": 10,
      "outputs": [
        {
          "output_type": "stream",
          "name": "stdout",
          "text": [
            "100\n"
          ]
        }
      ]
    },
    {
      "cell_type": "markdown",
      "source": [
        "**11. Algoritma Burte Force: Bubble Sort**"
      ],
      "metadata": {
        "id": "DPjx0krfVkdv"
      }
    },
    {
      "cell_type": "code",
      "source": [
        "def bubbleSort(alist):\n",
        "    for passnum in range(len(alist)-1, 0, -1):\n",
        "        for i in range(passnum):\n",
        "            if alist[i] > alist[i+1]:\n",
        "                temp = alist[i]\n",
        "                alist[i] = alist[i+1]\n",
        "                alist[i+1] = temp\n",
        "\n",
        "alist = [54, 26, 93, 17, 77, 31, 44, 55, 20]\n",
        "bubbleSort(alist)\n",
        "print(alist)"
      ],
      "metadata": {
        "colab": {
          "base_uri": "https://localhost:8080/"
        },
        "id": "-MnGGVdZVpTg",
        "outputId": "a03988ff-c826-45ef-a5a5-8f78edeac9cb"
      },
      "execution_count": 11,
      "outputs": [
        {
          "output_type": "stream",
          "name": "stdout",
          "text": [
            "[17, 20, 26, 31, 44, 54, 55, 77, 93]\n"
          ]
        }
      ]
    },
    {
      "cell_type": "markdown",
      "source": [
        "**12. Algoritma Burte Force: Sequintial Search**"
      ],
      "metadata": {
        "id": "qpbU1jj0VrJV"
      }
    },
    {
      "cell_type": "code",
      "source": [
        "def Sequential_Search(dlist, item):\n",
        "    pos = 0\n",
        "    found = False\n",
        "\n",
        "    while pos < len(dlist) and not found:\n",
        "        if dlist[pos] == item:\n",
        "            found = True\n",
        "        else:\n",
        "            pos = pos + 1\n",
        "\n",
        "    return found, pos\n",
        "\n",
        "print(Sequential_Search([11, 23, 58, 31, 56, 77, 43, 12, 65, 19, 31], 31))"
      ],
      "metadata": {
        "colab": {
          "base_uri": "https://localhost:8080/"
        },
        "id": "REBO_tV5VoYE",
        "outputId": "e90a1ce6-3810-49a2-e7fe-c120e2f2a1ab"
      },
      "execution_count": 12,
      "outputs": [
        {
          "output_type": "stream",
          "name": "stdout",
          "text": [
            "(True, 3)\n"
          ]
        }
      ]
    },
    {
      "cell_type": "markdown",
      "source": [
        "**Latihan: Mencari string 'g' dari deret a sampai h dengan sequential search**"
      ],
      "metadata": {
        "id": "Mro_NDNNV57s"
      }
    },
    {
      "cell_type": "code",
      "source": [
        "def Sequential_Search(dlist, item):\n",
        "    pos = 0\n",
        "    found = False\n",
        "\n",
        "    while pos < len(dlist) and not found:\n",
        "        if dlist[pos] == item:\n",
        "            found = True\n",
        "        else:\n",
        "            pos = pos + 1\n",
        "\n",
        "    return found, pos\n",
        "\n",
        "# Deret huruf dari a sampai h\n",
        "dlist = ['a', 'b', 'c', 'd', 'e', 'f', 'g', 'h']\n",
        "\n",
        "# Mencari huruf 'g'\n",
        "hasil = Sequential_Search(dlist, 'g')\n",
        "print(\"Apakah 'g' ditemukan?\", hasil[0])\n",
        "print(\"Posisi 'g' berada di indeks ke-\", hasil[1])"
      ],
      "metadata": {
        "colab": {
          "base_uri": "https://localhost:8080/"
        },
        "id": "cMXZas7jWFP7",
        "outputId": "2097b1f1-da83-4483-ee4a-9fb5a5dd68e9"
      },
      "execution_count": 13,
      "outputs": [
        {
          "output_type": "stream",
          "name": "stdout",
          "text": [
            "Apakah 'g' ditemukan? True\n",
            "Posisi 'g' berada di indeks ke- 6\n"
          ]
        }
      ]
    },
    {
      "cell_type": "markdown",
      "source": [
        "**13. Algoritma Burte Force: Pangkat**"
      ],
      "metadata": {
        "id": "_LYsVKDCWHPo"
      }
    },
    {
      "cell_type": "code",
      "source": [
        "bilangan = int(input('Masukkan bilangan: '))\n",
        "pangkat = int(input('Masukkan pangkat: '))\n",
        "\n",
        "def hitung_pangkat(bilangan, pangkat):\n",
        "    if pangkat > 1:\n",
        "        return bilangan * hitung_pangkat(bilangan, pangkat - 1)\n",
        "\n",
        "    return bilangan\n",
        "\n",
        "hasil = hitung_pangkat(bilangan, pangkat)\n",
        "print(f'Hasil = {hasil}')"
      ],
      "metadata": {
        "colab": {
          "base_uri": "https://localhost:8080/"
        },
        "id": "sNEyGGUBWMpv",
        "outputId": "a0e6a62a-834e-4a01-f13c-76129004a765"
      },
      "execution_count": 14,
      "outputs": [
        {
          "output_type": "stream",
          "name": "stdout",
          "text": [
            "Masukkan bilangan: 2\n",
            "Masukkan pangkat: 4\n",
            "Hasil = 16\n"
          ]
        }
      ]
    },
    {
      "cell_type": "markdown",
      "source": [
        "**14. Algoritma Burte Force: Faktorial**"
      ],
      "metadata": {
        "id": "xQXimtvvWQun"
      }
    },
    {
      "cell_type": "code",
      "source": [
        "n = int(input('Masukkan nilai n: '))\n",
        "\n",
        "def hitung_faktorial(n):\n",
        "    if n > 2:\n",
        "        return n * hitung_faktorial(n - 1)\n",
        "    return 2\n",
        "\n",
        "faktorial = hitung_faktorial(n)\n",
        "print(f'{n}! = {faktorial}')"
      ],
      "metadata": {
        "colab": {
          "base_uri": "https://localhost:8080/"
        },
        "id": "EFriVmJcWXIQ",
        "outputId": "09eb22ec-fa18-466e-ac5f-8b31ed9acb21"
      },
      "execution_count": 15,
      "outputs": [
        {
          "output_type": "stream",
          "name": "stdout",
          "text": [
            "Masukkan nilai n: 7\n",
            "7! = 5040\n"
          ]
        }
      ]
    },
    {
      "cell_type": "markdown",
      "source": [
        "**15. Algoritma Burte Force: String Matching**"
      ],
      "metadata": {
        "id": "QeLlQ5DeWbnd"
      }
    },
    {
      "cell_type": "code",
      "source": [
        "def string_match(string, sub_str):\n",
        "    # Brute force string matching\n",
        "    for i in range(len(string) - len(sub_str) + 1):\n",
        "        index = i   # index point to the 1 Three characters to be compared\n",
        "        for j in range(len(sub_str)):\n",
        "            if string[index] == sub_str[j]:\n",
        "                index += 1\n",
        "            else:\n",
        "                break\n",
        "        if index - i == len(sub_str):\n",
        "            return i\n",
        "    return -1\n",
        "\n",
        "if __name__ == \"__main__\":\n",
        "    print(string_match(\"adbcbdc\", \"bdc\"))"
      ],
      "metadata": {
        "colab": {
          "base_uri": "https://localhost:8080/"
        },
        "id": "a9-IuKXLWjf1",
        "outputId": "10c2d2d0-5e75-4edf-d14b-dadbb42c2e46"
      },
      "execution_count": 16,
      "outputs": [
        {
          "output_type": "stream",
          "name": "stdout",
          "text": [
            "4\n"
          ]
        }
      ]
    },
    {
      "cell_type": "markdown",
      "source": [
        "**Latihan: Dik string terdiri dari angka 1 - 9, jika mencari 56. Bagaimana hasilnya?**"
      ],
      "metadata": {
        "id": "gLJcRhe-WmiG"
      }
    },
    {
      "cell_type": "code",
      "source": [
        "def string_match(string, sub_str):\n",
        "    # Brute force string matching\n",
        "    for i in range(len(string) - len(sub_str) + 1):\n",
        "        index = i   # index menunjuk ke karakter pertama yang dibandingkan\n",
        "        for j in range(len(sub_str)):\n",
        "            if string[index] == sub_str[j]:\n",
        "                index += 1\n",
        "            else:\n",
        "                break\n",
        "        if index - i == len(sub_str):\n",
        "            return i  # Mengembalikan posisi awal substring\n",
        "    return -1  # Jika tidak ditemukan\n",
        "\n",
        "# Program utama\n",
        "if __name__ == \"__main__\":\n",
        "    string = \"123456789\"\n",
        "    sub_str = \"56\"\n",
        "    result = string_match(string, sub_str)\n",
        "\n",
        "    if result != -1:\n",
        "        print(f\"Substring '{sub_str}' ditemukan pada indeks ke-{result}.\")\n",
        "    else:\n",
        "        print(f\"Substring '{sub_str}' tidak ditemukan.\")"
      ],
      "metadata": {
        "colab": {
          "base_uri": "https://localhost:8080/"
        },
        "id": "1Ea6cFvsWxeB",
        "outputId": "2d524b17-4c7b-4175-cb56-d9c5429ba7ab"
      },
      "execution_count": 17,
      "outputs": [
        {
          "output_type": "stream",
          "name": "stdout",
          "text": [
            "Substring '56' ditemukan pada indeks ke-4.\n"
          ]
        }
      ]
    },
    {
      "cell_type": "markdown",
      "source": [
        "**16. Algoritma Burte Force: TSP (Travelling Salesman Problem)**"
      ],
      "metadata": {
        "id": "U0gJ-088W08q"
      }
    },
    {
      "cell_type": "code",
      "source": [
        "import random\n",
        "from itertools import permutations\n",
        "alltours = permutations\n",
        "\n",
        "def distance_tour(aTour):\n",
        "    return sum(distance_points(aTour[i - 1], aTour[i])\n",
        "               for i in range(len(aTour)))\n",
        "\n",
        "aCity = complex\n",
        "\n",
        "def distance_points(first, second):\n",
        "  return abs(first - second)\n",
        "\n",
        "def generate_cities(number_of_cities):\n",
        "  seed = 111; width = 500; height = 300\n",
        "  random.seed(seed) # Corrected to use only the integer seed\n",
        "  return frozenset(aCity(random.randint(1, width), random.randint(1, height))\n",
        "                    for c in range(number_of_cities))\n",
        "\n",
        "%matplotlib inline\n",
        "import matplotlib.pyplot as plt\n",
        "\n",
        "def visualize_tour(tour, style='bo-'):\n",
        "  if len(tour) > 1000: plt.figure(figsize=(15,10))\n",
        "  start = tour[0:1]\n",
        "  visualize_segment(tour + start, style)\n",
        "  visualize_segment(start, 'rD')\n",
        "\n",
        "def visualize_segment(segment, style='bo-'):\n",
        "  plt.plot([X(c) for c in segment], [Y(c) for c in segment], style, clip_on=False)\n",
        "  plt.axis('scaled')\n",
        "  plt.axis('off')\n",
        "\n",
        "def X(city): \"X axis\"; return city.real\n",
        "def Y(city): \"Y axis\"; return city.imag\n",
        "\n",
        "from time import process_time\n",
        "from collections import Counter\n",
        "def tsp(algorithm, cities):\n",
        "  t0 = process_time()\n",
        "  tour = algorithm(cities)\n",
        "  t1 = process_time()\n",
        "  assert Counter(tour) == Counter(cities)\n",
        "  visualize_tour(tour)\n",
        "  print(\"{}:{} cities => tour length {:.0f}(in {:.3f} sec)\".format(name(algorithm), len(tour), distance_tour(tour), t1-t0))\n",
        "\n",
        "def name(algorithm): return algorithm.__name__.replace('_tsp','')\n",
        "\n",
        "def brute_force(cities):\n",
        "  \"Generate all possible tours of the cities and choose the shortest tour.\"\n",
        "  return shortest_tour(alltours(cities))\n",
        "\n",
        "def shortest_tour(tours): return min(tours, key=distance_tour)"
      ],
      "metadata": {
        "id": "58sZNfVoW_7n"
      },
      "execution_count": 18,
      "outputs": []
    },
    {
      "cell_type": "markdown",
      "source": [
        "**Latihan: Berapa lama burte force pd TSP dengan 20 titik?**"
      ],
      "metadata": {
        "id": "tlv9FVk2XFYw"
      }
    },
    {
      "cell_type": "code",
      "source": [
        "def nearest_neighbor_tsp(cities):\n",
        "    start = random.choice(list(cities))\n",
        "    tour = [start]\n",
        "    unvisited = set(cities - {start})\n",
        "    while unvisited:\n",
        "        next_city = min(unvisited, key=lambda city: distance_points(tour[-1], city))\n",
        "        tour.append(next_city)\n",
        "        unvisited.remove(next_city)\n",
        "    return tour"
      ],
      "metadata": {
        "id": "iu41xdHyXMBk"
      },
      "execution_count": 19,
      "outputs": []
    },
    {
      "cell_type": "code",
      "source": [
        "cities = generate_cities(10) #10 titik\n",
        "tsp(nearest_neighbor_tsp, cities)"
      ],
      "metadata": {
        "colab": {
          "base_uri": "https://localhost:8080/",
          "height": 253
        },
        "id": "jr2drLQYXOhN",
        "outputId": "7710de6c-1501-434b-f96d-2df823d6176c"
      },
      "execution_count": 20,
      "outputs": [
        {
          "output_type": "stream",
          "name": "stdout",
          "text": [
            "nearest_neighbor:10 cities => tour length 889(in 0.000 sec)\n"
          ]
        },
        {
          "output_type": "display_data",
          "data": {
            "text/plain": [
              "<Figure size 640x480 with 1 Axes>"
            ],
            "image/png": "[encoded data removed]"
          },
          "metadata": {}
        }
      ]
    },
    {
      "cell_type": "code",
      "source": [
        "cities = generate_cities(20) # 20 titik\n",
        "tsp(nearest_neighbor_tsp, cities)"
      ],
      "metadata": {
        "colab": {
          "base_uri": "https://localhost:8080/",
          "height": 365
        },
        "id": "dmUFdMX9XTfm",
        "outputId": "b80f4e2d-3183-42e3-b83b-138b28b962b4"
      },
      "execution_count": 21,
      "outputs": [
        {
          "output_type": "stream",
          "name": "stdout",
          "text": [
            "nearest_neighbor:20 cities => tour length 1743(in 0.000 sec)\n"
          ]
        },
        {
          "output_type": "display_data",
          "data": {
            "text/plain": [
              "<Figure size 640x480 with 1 Axes>"
            ],
            "image/png": "[encoded data removed]"
          },
          "metadata": {}
        }
      ]
    },
    {
      "cell_type": "markdown",
      "source": [
        "**Latihan: Lebih cepat mana burte force atau greedy algorithm pada TSP dengan 20 titik?**"
      ],
      "metadata": {
        "id": "ytWm_MxMXXH7"
      }
    },
    {
      "cell_type": "markdown",
      "source": [
        "Algoritma Greedy jauh lebih cepat dibandingkan Brute Force pada TSP dengan 20 titik. Hal ini karena Brute Force memiliki kompleksitas O(n!) yang sangat besar, membuatnya mustahil diselesaikan dalam waktu wajar. Sebaliknya, Greedy hanya memiliki kompleksitas O(n²) sehingga dapat menemukan rute dengan cepat, biasanya hanya dalam hitungan detik, meskipun hasilnya belum tentu paling optimal."
      ],
      "metadata": {
        "id": "8ufiYCkWYsZ7"
      }
    }
  ]
}