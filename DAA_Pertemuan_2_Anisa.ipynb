{
  "nbformat": 4,
  "nbformat_minor": 0,
  "metadata": {
    "colab": {
      "provenance": [],
      "authorship_tag": "ABX9TyNxPbuprTGB01v/kIqkztiQ",
      "include_colab_link": true
    },
    "kernelspec": {
      "name": "python3",
      "display_name": "Python 3"
    },
    "language_info": {
      "name": "python"
    }
  },
  "cells": [
    {
      "cell_type": "markdown",
      "metadata": {
        "id": "view-in-github",
        "colab_type": "text"
      },
      "source": [
        "<a href=\"https://colab.research.google.com/github/AnisaIntania/Desain-dan-Analisis-Algoritma/blob/main/DAA_Pertemuan_2_Anisa.ipynb\" target=\"_parent\"><img src=\"https://colab.research.google.com/assets/colab-badge.svg\" alt=\"Open In Colab\"/></a>"
      ]
    },
    {
      "cell_type": "markdown",
      "source": [
        "**Latihan: Penjumlahan Array**"
      ],
      "metadata": {
        "id": "pUvcJj1E9OiU"
      }
    },
    {
      "cell_type": "code",
      "source": [
        "import numpy as np\n",
        "\n",
        "list_a = [1, 2, 3]\n",
        "list_b = [4, 5, 6]\n",
        "\n",
        "def add(list_a, list_b):\n",
        "  result = []\n",
        "  x = 0\n",
        "  for first, second in zip(list_a, list_b):\n",
        "    result.append(first + second)\n",
        "  for i in result:\n",
        "    x += i\n",
        "  return x\n",
        "\n",
        "print(add(list_a, list_b))"
      ],
      "metadata": {
        "colab": {
          "base_uri": "https://localhost:8080/"
        },
        "id": "Pv8v9bvswkgA",
        "outputId": "0d942c61-c022-4e49-c335-39ec56623251"
      },
      "execution_count": null,
      "outputs": [
        {
          "output_type": "stream",
          "name": "stdout",
          "text": [
            "21\n"
          ]
        }
      ]
    },
    {
      "cell_type": "markdown",
      "source": [
        "**Latihan: Membuat Array dengan Numpy**"
      ],
      "metadata": {
        "id": "XxDkXWb1zJ2O"
      }
    },
    {
      "cell_type": "code",
      "source": [
        "import numpy as np\n",
        "\n",
        "nilai_siswa = np.array([85, 55, 40, 90])\n",
        "print(nilai_siswa[3])"
      ],
      "metadata": {
        "colab": {
          "base_uri": "https://localhost:8080/"
        },
        "id": "Bh8y026WxMcM",
        "outputId": "a6196938-ee7f-4f20-e656-f7163bd9ae46"
      },
      "execution_count": null,
      "outputs": [
        {
          "output_type": "stream",
          "name": "stdout",
          "text": [
            "90\n"
          ]
        }
      ]
    },
    {
      "cell_type": "markdown",
      "source": [
        "**Latihan: Cek Python kita Versi Berapa**"
      ],
      "metadata": {
        "id": "oBEo3g8qzojs"
      }
    },
    {
      "cell_type": "code",
      "source": [
        "import numpy as np\n",
        "print(np.__version__)"
      ],
      "metadata": {
        "colab": {
          "base_uri": "https://localhost:8080/"
        },
        "id": "eYSPmXlezuLN",
        "outputId": "51e58f7c-9309-4958-a4bf-1f992c5941ab"
      },
      "execution_count": null,
      "outputs": [
        {
          "output_type": "stream",
          "name": "stdout",
          "text": [
            "2.0.2\n"
          ]
        }
      ]
    },
    {
      "cell_type": "markdown",
      "source": [
        "**Latihan: Membuat Comment**"
      ],
      "metadata": {
        "id": "neVMYYRv0A5m"
      }
    },
    {
      "cell_type": "code",
      "source": [
        "#Big O Notation\n",
        "## Constant time (O(1)) complexity"
      ],
      "metadata": {
        "id": "OvAKyjCkz69q"
      },
      "execution_count": null,
      "outputs": []
    },
    {
      "cell_type": "markdown",
      "source": [
        "**Latihan:Input Output**"
      ],
      "metadata": {
        "id": "nZg87vaO0ozv"
      }
    },
    {
      "cell_type": "code",
      "source": [
        "print(\"Hallo, World!\")\n",
        "nama = input(\"Masukkan nama: \")\n",
        "print(\"Nama saya\", nama)\n",
        "nim = input(\"Masukkan NIM: \")\n",
        "print(\"NIM Saya\", nim)"
      ],
      "metadata": {
        "colab": {
          "base_uri": "https://localhost:8080/"
        },
        "id": "NLLNCy8C0qgl",
        "outputId": "9c588a09-bb69-4659-c0b5-071366987518"
      },
      "execution_count": null,
      "outputs": [
        {
          "output_type": "stream",
          "name": "stdout",
          "text": [
            "Hallo, World!\n",
            "Masukkan nama: anisa\n",
            "Nama saya anisa\n",
            "Masukkan NIM: 234444408\n",
            "NIM Saya 234444408\n"
          ]
        }
      ]
    },
    {
      "cell_type": "markdown",
      "source": [
        "**Latihan Kondisional**"
      ],
      "metadata": {
        "id": "iEi93l-f1fjT"
      }
    },
    {
      "cell_type": "code",
      "source": [
        "if 5>2:\n",
        "  print(\"Lima lebih besar dari 2\")"
      ],
      "metadata": {
        "colab": {
          "base_uri": "https://localhost:8080/"
        },
        "id": "hJkzt5BQ1guv",
        "outputId": "d3a03257-a1c1-45ce-cafa-aa72f672feba"
      },
      "execution_count": null,
      "outputs": [
        {
          "output_type": "stream",
          "name": "stdout",
          "text": [
            "Lima lebih besar dari 2\n"
          ]
        }
      ]
    },
    {
      "cell_type": "code",
      "source": [
        "if 2>5:\n",
        "  print(\"Dua tidak lebih besar dari lima\")"
      ],
      "metadata": {
        "id": "K3GKQ94x1qXc"
      },
      "execution_count": null,
      "outputs": []
    },
    {
      "cell_type": "code",
      "source": [
        "if 5 == 5:\n",
        "  print(\"Lima sama dengan Lima\")"
      ],
      "metadata": {
        "colab": {
          "base_uri": "https://localhost:8080/"
        },
        "id": "11lZD_FA16Gm",
        "outputId": "e181425a-7bfb-4d85-fc46-091f92b49049"
      },
      "execution_count": null,
      "outputs": [
        {
          "output_type": "stream",
          "name": "stdout",
          "text": [
            "Lima sama dengan Lima\n"
          ]
        }
      ]
    },
    {
      "cell_type": "markdown",
      "source": [
        "**Latihan: Variabel**"
      ],
      "metadata": {
        "id": "-8a2dJ9m2FOQ"
      }
    },
    {
      "cell_type": "code",
      "source": [
        "x=5\n",
        "y=\"John\"\n",
        "\n",
        "print(x)\n",
        "print(y)"
      ],
      "metadata": {
        "colab": {
          "base_uri": "https://localhost:8080/"
        },
        "id": "zem2rU3e2GZP",
        "outputId": "dd0e1fbe-9de0-42d0-c659-c1df58de36bd"
      },
      "execution_count": null,
      "outputs": [
        {
          "output_type": "stream",
          "name": "stdout",
          "text": [
            "5\n",
            "John\n"
          ]
        }
      ]
    },
    {
      "cell_type": "markdown",
      "source": [
        "**Latihan: Variabel**"
      ],
      "metadata": {
        "id": "VstiJsZC2Q09"
      }
    },
    {
      "cell_type": "code",
      "source": [
        "x=4\n",
        "x=\"Sally\"\n",
        "print(x)"
      ],
      "metadata": {
        "colab": {
          "base_uri": "https://localhost:8080/"
        },
        "id": "KEMCP3Dn2WDw",
        "outputId": "0a642e62-4f75-4421-c7e2-24ba2973dc72"
      },
      "execution_count": null,
      "outputs": [
        {
          "output_type": "stream",
          "name": "stdout",
          "text": [
            "Sally\n"
          ]
        }
      ]
    },
    {
      "cell_type": "markdown",
      "source": [
        "nilai yang muncul adalah nilai terakhir yang di simpan"
      ],
      "metadata": {
        "id": "ciOOacsN2bN-"
      }
    },
    {
      "cell_type": "markdown",
      "source": [
        "**Latihan: Get First**"
      ],
      "metadata": {
        "id": "dRVm5lb-2g_s"
      }
    },
    {
      "cell_type": "code",
      "source": [
        "def getFirst(myList):\n",
        "  return myList[0]\n",
        "getFirst([2, 3, 4])"
      ],
      "metadata": {
        "colab": {
          "base_uri": "https://localhost:8080/"
        },
        "id": "U4N5VTnY2zSY",
        "outputId": "eefa65ef-9176-4a1d-e45c-2144a56c0472"
      },
      "execution_count": null,
      "outputs": [
        {
          "output_type": "execute_result",
          "data": {
            "text/plain": [
              "2"
            ]
          },
          "metadata": {},
          "execution_count": 24
        }
      ]
    },
    {
      "cell_type": "markdown",
      "source": [
        "**Latihan: Get Second**"
      ],
      "metadata": {
        "id": "6_f3k91O-U37"
      }
    },
    {
      "cell_type": "code",
      "source": [
        "def getSecond(myList):\n",
        "    return myList[1]\n",
        "getSecond([2, 3, 4])"
      ],
      "metadata": {
        "colab": {
          "base_uri": "https://localhost:8080/"
        },
        "id": "_f3nuX-d-Vks",
        "outputId": "4890ba70-0b3f-4f26-d7cd-ab5a8d244e8a"
      },
      "execution_count": null,
      "outputs": [
        {
          "output_type": "execute_result",
          "data": {
            "text/plain": [
              "3"
            ]
          },
          "metadata": {},
          "execution_count": 2
        }
      ]
    },
    {
      "cell_type": "markdown",
      "source": [
        "**Latihan: Get Last**"
      ],
      "metadata": {
        "id": "BvaGwwKr4JRQ"
      }
    },
    {
      "cell_type": "code",
      "source": [
        "def getLast(myList):\n",
        "  return myList[-1]\n",
        "getLast([2, 3, 4])"
      ],
      "metadata": {
        "colab": {
          "base_uri": "https://localhost:8080/"
        },
        "id": "C-9YPnTH4Myx",
        "outputId": "056483e0-afe4-49bc-c5ef-5fb1ee69fb0b"
      },
      "execution_count": null,
      "outputs": [
        {
          "output_type": "execute_result",
          "data": {
            "text/plain": [
              "4"
            ]
          },
          "metadata": {},
          "execution_count": 32
        }
      ]
    },
    {
      "cell_type": "markdown",
      "source": [
        "**Latihan: Mencari Panjang Array**"
      ],
      "metadata": {
        "id": "LoTCtd4A4_dc"
      }
    },
    {
      "cell_type": "code",
      "source": [
        "my_list = [1,2,3]\n",
        "panjang_list = len(my_list)\n",
        "print(panjang_list)\n",
        "\n",
        "print(my_list[len(my_list)-1])"
      ],
      "metadata": {
        "id": "mrVFPJvf5C1e",
        "colab": {
          "base_uri": "https://localhost:8080/"
        },
        "outputId": "0ea21458-cd0f-427e-b5ce-dde648e587f8"
      },
      "execution_count": null,
      "outputs": [
        {
          "output_type": "stream",
          "name": "stdout",
          "text": [
            "3\n",
            "3\n"
          ]
        }
      ]
    },
    {
      "cell_type": "markdown",
      "source": [
        "**Get Sum**"
      ],
      "metadata": {
        "id": "YKGS4UNkDoX2"
      }
    },
    {
      "cell_type": "code",
      "source": [
        "def getSum(myList):\n",
        "  sum = 0\n",
        "  for item in myList:\n",
        "    sum = sum+item\n",
        "  return sum\n",
        "getSum([1,2,3,4,5,6,7])"
      ],
      "metadata": {
        "colab": {
          "base_uri": "https://localhost:8080/"
        },
        "id": "QqU_hoMZ--_u",
        "outputId": "699085e3-9cc3-473d-90d3-83e6b8b13c29"
      },
      "execution_count": null,
      "outputs": [
        {
          "output_type": "execute_result",
          "data": {
            "text/plain": [
              "28"
            ]
          },
          "metadata": {},
          "execution_count": 7
        }
      ]
    },
    {
      "cell_type": "markdown",
      "source": [
        "**Get Kali**"
      ],
      "metadata": {
        "id": "snrabtSWDrzy"
      }
    },
    {
      "cell_type": "code",
      "source": [
        "def getKali(myList):\n",
        "    hasil = 1\n",
        "    for x in myList:\n",
        "        hasil *= x\n",
        "    return hasil\n",
        "\n",
        "print(getKali([2, 3, 4]))\n"
      ],
      "metadata": {
        "colab": {
          "base_uri": "https://localhost:8080/"
        },
        "id": "DzcN78cbAHs-",
        "outputId": "92e39e83-50b5-4065-ff2d-f1d18edb8672"
      },
      "execution_count": null,
      "outputs": [
        {
          "output_type": "stream",
          "name": "stdout",
          "text": [
            "24\n"
          ]
        }
      ]
    },
    {
      "cell_type": "markdown",
      "source": [
        "**Get Bagi**"
      ],
      "metadata": {
        "id": "V76KR5agDt5n"
      }
    },
    {
      "cell_type": "code",
      "source": [
        "def getBagi(myList):\n",
        "    result = myList[0]\n",
        "    for num in myList[1:]:\n",
        "        result /= num\n",
        "    return result\n",
        "\n",
        "print(getBagi([100, 5, 2]))"
      ],
      "metadata": {
        "colab": {
          "base_uri": "https://localhost:8080/"
        },
        "id": "lv2GmHM9fDat",
        "outputId": "2d376aca-ee26-43e3-b429-089e509f3e02"
      },
      "execution_count": 2,
      "outputs": [
        {
          "output_type": "stream",
          "name": "stdout",
          "text": [
            "10.0\n"
          ]
        }
      ]
    },
    {
      "cell_type": "markdown",
      "source": [
        "**Latihan: Membagi 2 himpunan angka**"
      ],
      "metadata": {
        "id": "8LsgDwYgDyYh"
      }
    },
    {
      "cell_type": "code",
      "source": [
        "def getBagi(myList):\n",
        "  if not myList or not myList[0]:\n",
        "        return None\n",
        "  hasil = myList[0][0]\n",
        "  for item in myList[0][1:]:\n",
        "      hasil /= item\n",
        "  for row in myList[1:]:\n",
        "    for item in row:\n",
        "      hasil /= item\n",
        "  return hasil\n",
        "\n",
        "print(getBagi([[64,2,2], [2,2,2]]))"
      ],
      "metadata": {
        "colab": {
          "base_uri": "https://localhost:8080/"
        },
        "id": "TEVzLzChEAwz",
        "outputId": "9a8f755d-17f8-491e-c215-1420cf9fcc93"
      },
      "execution_count": null,
      "outputs": [
        {
          "output_type": "stream",
          "name": "stdout",
          "text": [
            "2.0\n"
          ]
        }
      ]
    },
    {
      "cell_type": "markdown",
      "source": [
        "**Latihan: Menguragi 2 himpunan angka**"
      ],
      "metadata": {
        "id": "ks6Ql7nqGRVq"
      }
    },
    {
      "cell_type": "code",
      "source": [
        "def getKurang(myList):\n",
        "    if not myList:\n",
        "        return None\n",
        "\n",
        "    flat = [x for row in myList for x in (row if isinstance(row, list) else [row])]\n",
        "\n",
        "    hasil = flat[0]\n",
        "    for x in flat[1:]:\n",
        "        hasil -= x\n",
        "    return hasil\n",
        "\n",
        "print(getKurang([[20, 5, 3], [4, 2, 2]]))\n"
      ],
      "metadata": {
        "colab": {
          "base_uri": "https://localhost:8080/"
        },
        "id": "VkkNyA5mGx45",
        "outputId": "34f871e4-1cc3-46a3-fa38-cd11dced888a"
      },
      "execution_count": null,
      "outputs": [
        {
          "output_type": "stream",
          "name": "stdout",
          "text": [
            "4\n"
          ]
        }
      ]
    }
  ]
}