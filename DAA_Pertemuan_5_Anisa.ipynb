{
  "nbformat": 4,
  "nbformat_minor": 0,
  "metadata": {
    "colab": {
      "provenance": [],
      "authorship_tag": "ABX9TyNRPyD2ojiOzamU2R4s2xtp",
      "include_colab_link": true
    },
    "kernelspec": {
      "name": "python3",
      "display_name": "Python 3"
    },
    "language_info": {
      "name": "python"
    }
  },
  "cells": [
    {
      "cell_type": "markdown",
      "metadata": {
        "id": "view-in-github",
        "colab_type": "text"
      },
      "source": [
        "<a href=\"https://colab.research.google.com/github/AnisaIntania/Desain-dan-Analisis-Algoritma/blob/main/DAA_Pertemuan_5_Anisa.ipynb\" target=\"_parent\"><img src=\"https://colab.research.google.com/assets/colab-badge.svg\" alt=\"Open In Colab\"/></a>"
      ]
    },
    {
      "cell_type": "markdown",
      "source": [
        "**Pembagian dan Penjumlahan List (Divide & Conquer)**"
      ],
      "metadata": {
        "id": "1dBoPQ5-U04p"
      }
    },
    {
      "cell_type": "code",
      "execution_count": null,
      "metadata": {
        "colab": {
          "base_uri": "https://localhost:8080/"
        },
        "id": "xniHaH4mw7CI",
        "outputId": "ec85829e-45fc-40ad-cdc2-5cae31c8b547"
      },
      "outputs": [
        {
          "output_type": "stream",
          "name": "stdout",
          "text": [
            "Bagian 1: [4, 12, 23, 9] = 48\n",
            "Bagian 2: [21, 1, 35, 2, 24] = 83\n",
            "Total = 131\n"
          ]
        }
      ],
      "source": [
        "# Daftar bilangan\n",
        "angka = [4, 12, 23, 9, 21, 1, 35, 2, 24]\n",
        "\n",
        "# Panjang list\n",
        "n = len(angka)\n",
        "\n",
        "# Tentukan titik tengah (floor division)\n",
        "mid = n // 2\n",
        "\n",
        "# Bagi menjadi 2 bagian\n",
        "bagian1 = angka[:mid]\n",
        "bagian2 = angka[mid:]\n",
        "\n",
        "# Hitung jumlah masing-masing bagian\n",
        "jumlah1 = sum(bagian1)\n",
        "jumlah2 = sum(bagian2)\n",
        "\n",
        "# Total\n",
        "total = jumlah1 + jumlah2\n",
        "\n",
        "# Cetak hasil\n",
        "print(\"Bagian 1:\", bagian1, \"=\", jumlah1)\n",
        "print(\"Bagian 2:\", bagian2, \"=\", jumlah2)\n",
        "print(\"Total =\", total)"
      ]
    },
    {
      "cell_type": "markdown",
      "source": [
        "**Maximum Subarray Sum (Divide & Conquer)**"
      ],
      "metadata": {
        "id": "PBpijpD2SxI2"
      }
    },
    {
      "cell_type": "code",
      "source": [
        "# Cari jumlah maksimum subarray pake divide & conquer\n",
        "def maxCrossingSum(arr, l, m, h):\n",
        "    sm = 0\n",
        "    left_sum = -10000  # nilai awal kecil\n",
        "    # hitung dari tengah ke kiri\n",
        "    for i in range(m, l-1, -1):\n",
        "        sm += arr[i]\n",
        "        if sm > left_sum:\n",
        "            left_sum = sm\n",
        "\n",
        "    sm = 0\n",
        "    right_sum = -1000\n",
        "    # hitung dari tengah ke kanan\n",
        "    for i in range(m+1, h+1):\n",
        "        sm += arr[i]\n",
        "        if sm > right_sum:\n",
        "            right_sum = sm\n",
        "\n",
        "    # ambil nilai maksimum\n",
        "    return max(left_sum + right_sum, left_sum, right_sum)\n",
        "\n",
        "def maxSubArraySum(arr, l, h):\n",
        "    if l > h:\n",
        "        return -10000\n",
        "    if l == h:\n",
        "        return arr[l]\n",
        "\n",
        "    m = (l + h) // 2\n",
        "    return max(\n",
        "        maxSubArraySum(arr, l, m-1),   # kiri\n",
        "        maxSubArraySum(arr, m+1, h),   # kanan\n",
        "        maxCrossingSum(arr, l, m, h)   # tengah\n",
        "    )\n",
        "\n",
        "arr = [4, 12, 23, 9, 21, 1, 35, 2, 24]\n",
        "print(\"Maximum contiguous sum is:\", maxSubArraySum(arr, 0, len(arr)-1))"
      ],
      "metadata": {
        "colab": {
          "base_uri": "https://localhost:8080/"
        },
        "id": "_C5b6dg9Szii",
        "outputId": "4296b481-db63-4cab-b817-281fea8e56c6"
      },
      "execution_count": 1,
      "outputs": [
        {
          "output_type": "stream",
          "name": "stdout",
          "text": [
            "Maximum contiguous sum is: 131\n"
          ]
        }
      ]
    },
    {
      "cell_type": "markdown",
      "source": [
        "**Min dan Maks (Divide & Conquer)**"
      ],
      "metadata": {
        "id": "ygN6IWIkS-gC"
      }
    },
    {
      "cell_type": "code",
      "source": [
        "# Cari nilai maksimum pakai rekursi\n",
        "def divideAndConquer_Max(arr, ind, length):\n",
        "    if ind >= length - 1:\n",
        "        return arr[ind]\n",
        "    maximum = divideAndConquer_Max(arr, ind + 1, length)\n",
        "    if arr[ind] > maximum:\n",
        "        return arr[ind]\n",
        "    return maximum\n",
        "\n",
        "# Cari nilai minimum pakai rekursi\n",
        "def divideAndConquer_Min(arr, ind, length):\n",
        "    if ind >= length - 1:\n",
        "        return arr[ind]\n",
        "    minimum = divideAndConquer_Min(arr, ind + 1, length)\n",
        "    if arr[ind] < minimum:\n",
        "        return arr[ind]\n",
        "    return minimum\n",
        "\n",
        "arr = [6, 4, 8, 90, 12, 56, 7, 1, 63]\n",
        "print(\"Min:\", divideAndConquer_Min(arr, 0, len(arr)))\n",
        "print(\"Max:\", divideAndConquer_Max(arr, 0, len(arr)))"
      ],
      "metadata": {
        "colab": {
          "base_uri": "https://localhost:8080/"
        },
        "id": "xjqYHErwS_pP",
        "outputId": "9825e4ab-6410-49dd-d15d-7376fe375670"
      },
      "execution_count": 2,
      "outputs": [
        {
          "output_type": "stream",
          "name": "stdout",
          "text": [
            "Min: 1\n",
            "Max: 90\n"
          ]
        }
      ]
    },
    {
      "cell_type": "markdown",
      "source": [
        "**Marge Sort**"
      ],
      "metadata": {
        "id": "fpFw8mpjTCst"
      }
    },
    {
      "cell_type": "code",
      "source": [
        "# Sorting dengan cara membagi 2 dan menggabungkan lagi\n",
        "def mergeSort(array):\n",
        "    if len(array) > 1:\n",
        "        r = len(array)//2\n",
        "        L = array[:r]\n",
        "        M = array[r:]\n",
        "\n",
        "        mergeSort(L)\n",
        "        mergeSort(M)\n",
        "\n",
        "        i = j = k = 0\n",
        "        # bandingkan elemen kiri & kanan\n",
        "        while i < len(L) and j < len(M):\n",
        "            if L[i] < M[j]:\n",
        "                array[k] = L[i]\n",
        "                i += 1\n",
        "            else:\n",
        "                array[k] = M[j]\n",
        "                j += 1\n",
        "            k += 1\n",
        "\n",
        "        # sisa elemen kiri\n",
        "        while i < len(L):\n",
        "            array[k] = L[i]\n",
        "            i += 1\n",
        "            k += 1\n",
        "\n",
        "        # sisa elemen kanan\n",
        "        while j < len(M):\n",
        "            array[k] = M[j]\n",
        "            j += 1\n",
        "            k += 1\n",
        "\n",
        "array = [8, 3, 2, 9, 7, 1, 5, 4]\n",
        "print(\"Array sebelum sorting:\")\n",
        "print(array)\n",
        "\n",
        "array = [8, 3, 2, 9, 7, 1, 5, 4]\n",
        "mergeSort(array)\n",
        "print(\"Array sesudah disorting:\")\n",
        "print(array)"
      ],
      "metadata": {
        "colab": {
          "base_uri": "https://localhost:8080/"
        },
        "id": "rEYsTY7LTFRj",
        "outputId": "4c6ab9b0-62d0-4cd1-84de-cf4c297353d5"
      },
      "execution_count": 19,
      "outputs": [
        {
          "output_type": "stream",
          "name": "stdout",
          "text": [
            "Array sebelum sorting:\n",
            "[8, 3, 2, 9, 7, 1, 5, 4]\n",
            "Array sesudah disorting:\n",
            "[1, 2, 3, 4, 5, 7, 8, 9]\n"
          ]
        }
      ]
    },
    {
      "cell_type": "markdown",
      "source": [
        "**Insertion Sort**"
      ],
      "metadata": {
        "id": "OGokY87rTJl6"
      }
    },
    {
      "cell_type": "code",
      "source": [
        "# Sisipkan elemen satu per satu ke posisi yang benar\n",
        "def insertion_sort(arr):\n",
        "    for i in range(1, len(arr)):\n",
        "        key = arr[i]\n",
        "        j = i - 1\n",
        "        while j >= 0 and key < arr[j]:\n",
        "            arr[j + 1] = arr[j]\n",
        "            j -= 1\n",
        "        arr[j + 1] = key\n",
        "    return arr\n",
        "\n",
        "arr = [4, 12, 23, 9, 21, 1, 5, 2]\n",
        "print(\"Sorted array:\", insertion_sort(arr))"
      ],
      "metadata": {
        "colab": {
          "base_uri": "https://localhost:8080/"
        },
        "id": "0nwtBXnfTeaM",
        "outputId": "f93f70c0-870d-46c8-9c28-34cc8638ed01"
      },
      "execution_count": 4,
      "outputs": [
        {
          "output_type": "stream",
          "name": "stdout",
          "text": [
            "Sorted array: [1, 2, 4, 5, 9, 12, 21, 23]\n"
          ]
        }
      ]
    },
    {
      "cell_type": "markdown",
      "source": [
        "**Quick Sort**"
      ],
      "metadata": {
        "id": "ZPzdKx8cTjCB"
      }
    },
    {
      "cell_type": "code",
      "source": [
        "# Bagi array berdasarkan pivot\n",
        "def partition(array, low, high):\n",
        "    pivot = array[high]\n",
        "    i = low - 1\n",
        "    for j in range(low, high):\n",
        "        if array[j] <= pivot:\n",
        "            i += 1\n",
        "            (array[i], array[j]) = (array[j], array[i])\n",
        "    (array[i + 1], array[high]) = (array[high], array[i + 1])\n",
        "    return i + 1\n",
        "\n",
        "def quickSort(array, low, high):\n",
        "    if low < high:\n",
        "        pi = partition(array, low, high)\n",
        "        quickSort(array, low, pi - 1)\n",
        "        quickSort(array, pi + 1, high)\n",
        "\n",
        "data = [1, 7, 4, 1, 10, 9, -2]\n",
        "print(\"Unsorted Array:\")\n",
        "print(data)\n",
        "\n",
        "data = [1, 7, 4, 1, 10, 9, -2]\n",
        "quickSort(data, 0, len(data) - 1)\n",
        "print(\"Sorted array:\")\n",
        "print(data)"
      ],
      "metadata": {
        "colab": {
          "base_uri": "https://localhost:8080/"
        },
        "id": "KDoRwRQyTm6I",
        "outputId": "14c32639-cb37-45fd-8ee2-7d3497c8b34a"
      },
      "execution_count": 21,
      "outputs": [
        {
          "output_type": "stream",
          "name": "stdout",
          "text": [
            "Unsorted Array:\n",
            "[1, 7, 4, 1, 10, 9, -2]\n",
            "Sorted array:\n",
            "[-2, 1, 1, 4, 7, 9, 10]\n"
          ]
        }
      ]
    },
    {
      "cell_type": "markdown",
      "source": [
        "**Hitung Inversi (Brute Force)**"
      ],
      "metadata": {
        "id": "5WVKT5-LTuRC"
      }
    },
    {
      "cell_type": "code",
      "source": [
        "# Hitung pasangan (i, j) yang posisinya terbalik\n",
        "def countInversion(arr):\n",
        "    result = 0\n",
        "    for i in range(len(arr)):\n",
        "        for j in range(i + 1, len(arr)):\n",
        "            if arr[i] > arr[j]:\n",
        "                result += 1\n",
        "    return result\n",
        "\n",
        "arr = [21, 70, 36, 14, 25]\n",
        "print(\"Jumlah inversi:\", countInversion(arr))"
      ],
      "metadata": {
        "colab": {
          "base_uri": "https://localhost:8080/"
        },
        "id": "X18q4SNMTr3Z",
        "outputId": "0e10f22a-e432-4e2a-8e67-91ff31c94f7c"
      },
      "execution_count": 6,
      "outputs": [
        {
          "output_type": "stream",
          "name": "stdout",
          "text": [
            "Jumlah inversi: 6\n"
          ]
        }
      ]
    },
    {
      "cell_type": "markdown",
      "source": [
        "**Hitung Inversi (Divide & Conquer)**"
      ],
      "metadata": {
        "id": "SAmG-A19TwrH"
      }
    },
    {
      "cell_type": "code",
      "source": [
        "# Hitung inversi pakai merge sort\n",
        "def countInversion(arr):\n",
        "    icount = 0\n",
        "    if len(arr) <= 1:\n",
        "        return icount\n",
        "\n",
        "    mid = len(arr) // 2\n",
        "    left = arr[:mid]\n",
        "    right = arr[mid:]\n",
        "\n",
        "    icount += countInversion(left)\n",
        "    icount += countInversion(right)\n",
        "\n",
        "    i = j = k = 0\n",
        "    while i < len(left) and j < len(right):\n",
        "        if left[i] <= right[j]:\n",
        "            arr[k] = left[i]\n",
        "            i += 1\n",
        "        else:\n",
        "            arr[k] = right[j]\n",
        "            j += 1\n",
        "            icount += (mid - i)\n",
        "        k += 1\n",
        "\n",
        "    while i < len(left):\n",
        "        arr[k] = left[i]\n",
        "        i += 1\n",
        "        k += 1\n",
        "\n",
        "    while j < len(right):\n",
        "        arr[k] = right[j]\n",
        "        j += 1\n",
        "        k += 1\n",
        "\n",
        "    return icount\n",
        "\n",
        "arr = [1, 20, 6, 4, 5]\n",
        "print(\"Jumlah inversi:\", countInversion(arr))"
      ],
      "metadata": {
        "colab": {
          "base_uri": "https://localhost:8080/"
        },
        "id": "GPoU6YFYT0HM",
        "outputId": "f1429458-2a24-47cc-c11b-98cfce2aed0e"
      },
      "execution_count": 7,
      "outputs": [
        {
          "output_type": "stream",
          "name": "stdout",
          "text": [
            "Jumlah inversi: 5\n"
          ]
        }
      ]
    },
    {
      "cell_type": "markdown",
      "source": [
        "**Kadane’s Algorithm**"
      ],
      "metadata": {
        "id": "VhTDrDSTT341"
      }
    },
    {
      "cell_type": "code",
      "source": [
        "# Cari subarray dengan jumlah terbesar tanpa divide & conquer\n",
        "def maxSubSum(arr):\n",
        "    max_so_far = 0\n",
        "    max_ending_here = 0\n",
        "    for i in range(len(arr)):\n",
        "        max_ending_here += arr[i]\n",
        "        if max_ending_here > max_so_far:\n",
        "            max_so_far = max_ending_here\n",
        "        if max_ending_here < 0:\n",
        "            max_ending_here = 0\n",
        "    return max_so_far\n",
        "\n",
        "arr = [-2, -5, 6, -2, -3, 1, 5, -6]\n",
        "print(\"Max subarray sum:\", maxSubSum(arr))"
      ],
      "metadata": {
        "colab": {
          "base_uri": "https://localhost:8080/"
        },
        "id": "z-vemmANT5BO",
        "outputId": "854d38ef-2832-4433-f454-64095db464e6"
      },
      "execution_count": 8,
      "outputs": [
        {
          "output_type": "stream",
          "name": "stdout",
          "text": [
            "Max subarray sum: 7\n"
          ]
        }
      ]
    },
    {
      "cell_type": "markdown",
      "source": [
        "**Maximum Subarray Sum (Versi D&C Sederhana)**"
      ],
      "metadata": {
        "id": "j-gD9HYvT8_P"
      }
    },
    {
      "cell_type": "code",
      "source": [
        "# Versi lain dari maximum subarray sum\n",
        "def maxCrossingSum(arr, low, mid, high):\n",
        "    leftSum = rightSum = float('-inf')\n",
        "    sum = 0\n",
        "    for i in range(mid, low - 1, -1):\n",
        "        sum += arr[i]\n",
        "        if sum > leftSum:\n",
        "            leftSum = sum\n",
        "    sum = 0\n",
        "    for i in range(mid + 1, high + 1):\n",
        "        sum += arr[i]\n",
        "        if sum > rightSum:\n",
        "            rightSum = sum\n",
        "    return leftSum + rightSum\n",
        "\n",
        "def maxSum(arr, low, high):\n",
        "    if low == high:\n",
        "        return arr[low]\n",
        "    mid = (low + high) // 2\n",
        "    return max(maxSum(arr, low, mid),\n",
        "               maxSum(arr, mid + 1, high),\n",
        "               maxCrossingSum(arr, low, mid, high))\n",
        "\n",
        "arr = [-2, -5, 6, -2, -3, 1, 5, -6]\n",
        "print(\"Max sum:\", maxSum(arr, 0, len(arr) - 1))"
      ],
      "metadata": {
        "colab": {
          "base_uri": "https://localhost:8080/"
        },
        "id": "2U2DoQx-T_EK",
        "outputId": "0d9677ac-cb23-46ce-9430-2b181002f695"
      },
      "execution_count": 9,
      "outputs": [
        {
          "output_type": "stream",
          "name": "stdout",
          "text": [
            "Max sum: 7\n"
          ]
        }
      ]
    },
    {
      "cell_type": "markdown",
      "source": [
        "**Longest Common Prefix**"
      ],
      "metadata": {
        "id": "__IIsJ3bUCAg"
      }
    },
    {
      "cell_type": "code",
      "source": [
        "# Cari awalan sama dari beberapa kata\n",
        "def longestCommonPrefix(a):\n",
        "    if len(a) == 0:\n",
        "        return \"\"\n",
        "    if len(a) == 1:\n",
        "        return a[0]\n",
        "    a.sort()\n",
        "    end = min(len(a[0]), len(a[-1]))\n",
        "    i = 0\n",
        "    while i < end and a[0][i] == a[-1][i]:\n",
        "        i += 1\n",
        "    return a[0][:i]\n",
        "\n",
        "arr = [\"geeksforgeeks\", \"geeks\", \"geek\", \"geezer\"]\n",
        "print(longestCommonPrefix(arr))"
      ],
      "metadata": {
        "colab": {
          "base_uri": "https://localhost:8080/"
        },
        "id": "r7rPigfhUDGe",
        "outputId": "24542def-fd31-42ae-d140-23a449371492"
      },
      "execution_count": 10,
      "outputs": [
        {
          "output_type": "stream",
          "name": "stdout",
          "text": [
            "gee\n"
          ]
        }
      ]
    },
    {
      "cell_type": "markdown",
      "source": [
        "**Median Dua Array Sama Ukuran**"
      ],
      "metadata": {
        "id": "-pKJudJjUGQC"
      }
    },
    {
      "cell_type": "code",
      "source": [
        "# Cari median dari dua array ukuran sama\n",
        "def medianOfArray(arr1, arr2, n):\n",
        "    m1 = m2 = -1\n",
        "    i = j = 0\n",
        "    for count in range(n + 1):\n",
        "        if i == n:\n",
        "            m1 = m2\n",
        "            m2 = arr2[0]\n",
        "            break\n",
        "        elif j == n:\n",
        "            m1 = m2\n",
        "            m2 = arr1[0]\n",
        "            break\n",
        "        if arr1[i] <= arr2[j]:\n",
        "            m1 = m2\n",
        "            m2 = arr1[i]\n",
        "            i += 1\n",
        "        else:\n",
        "            m1 = m2\n",
        "            m2 = arr2[j]\n",
        "            j += 1\n",
        "    return (m1 + m2) // 2\n",
        "\n",
        "arr1 = [1, 12, 15, 26, 38]\n",
        "arr2 = [2, 13, 17, 30, 45]\n",
        "print(\"Median:\", medianOfArray(arr1, arr2, len(arr1)))"
      ],
      "metadata": {
        "colab": {
          "base_uri": "https://localhost:8080/"
        },
        "id": "RFKzKzXVUHqC",
        "outputId": "507bf172-378e-4088-8a9c-c47f7e89605a"
      },
      "execution_count": 11,
      "outputs": [
        {
          "output_type": "stream",
          "name": "stdout",
          "text": [
            "Median: 16\n"
          ]
        }
      ]
    },
    {
      "cell_type": "markdown",
      "source": [
        "**Median Dua Array Ukuran Berbeda**"
      ],
      "metadata": {
        "id": "R4IItS1jUL7N"
      }
    },
    {
      "cell_type": "code",
      "source": [
        "# Cari median dari dua array beda panjang\n",
        "def Solution(arr):\n",
        "    n = len(arr)\n",
        "    if n % 2 == 0:\n",
        "        return (arr[n//2] + arr[n//2 - 1]) / 2\n",
        "    else:\n",
        "        return arr[n//2]\n",
        "\n",
        "arr1 = [-5, 3, 6, 12, 15]\n",
        "arr2 = [-12, -10, -6, -3, 4, 10]\n",
        "arr3 = sorted(arr1 + arr2)\n",
        "print(\"Median =\", Solution(arr3))"
      ],
      "metadata": {
        "colab": {
          "base_uri": "https://localhost:8080/"
        },
        "id": "aOiaa_vAUNBk",
        "outputId": "0ae890c4-aabd-4d68-bc69-62306267a9b3"
      },
      "execution_count": 12,
      "outputs": [
        {
          "output_type": "stream",
          "name": "stdout",
          "text": [
            "Median = 3\n"
          ]
        }
      ]
    },
    {
      "cell_type": "markdown",
      "source": [
        "**Floor dalam Array Terurut**"
      ],
      "metadata": {
        "id": "DEePwb6MURFJ"
      }
    },
    {
      "cell_type": "code",
      "source": [
        "# Cari angka terbesar yang ≤ x\n",
        "def floorSorted(arr, low, high, x):\n",
        "    if low > high:\n",
        "        return -1\n",
        "    if arr[low] > x:\n",
        "        return -1\n",
        "    if arr[high] <= x:\n",
        "        return arr[high]\n",
        "    mid = (low + high) // 2\n",
        "    if arr[mid] == x:\n",
        "        return arr[mid]\n",
        "    if mid > 0 and arr[mid-1] <= x and x < arr[mid]:\n",
        "        return arr[mid-1]\n",
        "    if arr[mid] > x:\n",
        "        return floorSorted(arr, low, mid-1, x)\n",
        "    return floorSorted(arr, mid+1, high, x)\n",
        "\n",
        "arr = [1, 2, 8, 10, 12, 14, 19]\n",
        "x = 5\n",
        "print(\"Floor:\", floorSorted(arr, 0, len(arr)-1, x))"
      ],
      "metadata": {
        "colab": {
          "base_uri": "https://localhost:8080/"
        },
        "id": "bitn5doaUSIV",
        "outputId": "340f866b-0e74-499b-8522-e01dfbce8e69"
      },
      "execution_count": 13,
      "outputs": [
        {
          "output_type": "stream",
          "name": "stdout",
          "text": [
            "Floor: -1\n"
          ]
        }
      ]
    },
    {
      "cell_type": "markdown",
      "source": [
        "**Nilai Terdekat (Closest Number)**"
      ],
      "metadata": {
        "id": "fIDPcnTzUVlv"
      }
    },
    {
      "cell_type": "code",
      "source": [
        "# Cari angka terdekat dengan x\n",
        "def closestNumber(arr, low, high, x):\n",
        "    if low > high:\n",
        "        return -1\n",
        "    if arr[high] <= x:\n",
        "        return arr[high]\n",
        "    if arr[low] >= x:\n",
        "        return arr[low]\n",
        "    mid = (low + high) // 2\n",
        "    if arr[mid] == x:\n",
        "        return arr[mid]\n",
        "    if x < arr[mid]:\n",
        "        if mid > 0 and x > arr[mid - 1]:\n",
        "            return arr[mid-1] if abs(arr[mid-1]-x) < abs(arr[mid]-x) else arr[mid]\n",
        "        return closestNumber(arr, low, mid-1, x)\n",
        "    if mid < high and x < arr[mid + 1]:\n",
        "        return arr[mid] if abs(arr[mid]-x) < abs(arr[mid+1]-x) else arr[mid+1]\n",
        "    return closestNumber(arr, mid+1, high, x)\n",
        "\n",
        "arr = [2, 5, 6, 7, 8, 8, 9]\n",
        "x = 9\n",
        "print(\"Closest:\", closestNumber(arr, 0, len(arr) - 1, x))"
      ],
      "metadata": {
        "colab": {
          "base_uri": "https://localhost:8080/"
        },
        "id": "ZDrCDwlrUWzt",
        "outputId": "67c463c4-4651-4050-f9fa-3fa71bdc1c31"
      },
      "execution_count": 14,
      "outputs": [
        {
          "output_type": "stream",
          "name": "stdout",
          "text": [
            "Closest: 9\n"
          ]
        }
      ]
    },
    {
      "cell_type": "markdown",
      "source": [
        "**Find Closest**"
      ],
      "metadata": {
        "id": "dDjy2gbtUa6Q"
      }
    },
    {
      "cell_type": "code",
      "source": [
        "# Cari angka paling dekat dengan k\n",
        "def find_closest(lst, k):\n",
        "    lst.sort()\n",
        "    closest_num = lst[0]\n",
        "    for num in lst:\n",
        "        if abs(num - k) < abs(closest_num - k):\n",
        "            closest_num = num\n",
        "        if num > k:\n",
        "            break\n",
        "    return closest_num\n",
        "\n",
        "lst = [3.64, 5.2, 9.42, 9.35, 8.5, 8]\n",
        "print(find_closest(lst, 9.1))"
      ],
      "metadata": {
        "colab": {
          "base_uri": "https://localhost:8080/"
        },
        "id": "TnxDjoq7UcFF",
        "outputId": "79eb0db8-3ca9-4335-cd52-1a8118e97695"
      },
      "execution_count": 15,
      "outputs": [
        {
          "output_type": "stream",
          "name": "stdout",
          "text": [
            "9.35\n"
          ]
        }
      ]
    },
    {
      "cell_type": "markdown",
      "source": [
        "**Fixed Point**"
      ],
      "metadata": {
        "id": "e262wi6IUgO-"
      }
    },
    {
      "cell_type": "code",
      "source": [
        "# Fixed point: posisi index == nilai\n",
        "def fixedPoint(arr, low, high):\n",
        "    if low > high:\n",
        "        return -1\n",
        "    mid = (low + high) // 2\n",
        "    if arr[mid] == mid:\n",
        "        return mid\n",
        "    if arr[mid] < mid:\n",
        "        return fixedPoint(arr, mid + 1, high)\n",
        "    return fixedPoint(arr, low, mid - 1)\n",
        "\n",
        "arr = [-10, -5, 0, 3, 7]\n",
        "print(\"Fixed point:\", fixedPoint(arr, 0, len(arr) - 1))"
      ],
      "metadata": {
        "colab": {
          "base_uri": "https://localhost:8080/"
        },
        "id": "ipUcxaCoUhtK",
        "outputId": "c51184f2-4b85-4c9a-9ea1-96a9c331939f"
      },
      "execution_count": 16,
      "outputs": [
        {
          "output_type": "stream",
          "name": "stdout",
          "text": [
            "Fixed point: 3\n"
          ]
        }
      ]
    }
  ]
}