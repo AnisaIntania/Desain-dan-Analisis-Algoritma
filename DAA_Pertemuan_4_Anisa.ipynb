{
  "nbformat": 4,
  "nbformat_minor": 0,
  "metadata": {
    "colab": {
      "provenance": [],
      "authorship_tag": "ABX9TyPxustNe1utbBF5zNCayKQf",
      "include_colab_link": true
    },
    "kernelspec": {
      "name": "python3",
      "display_name": "Python 3"
    },
    "language_info": {
      "name": "python"
    }
  },
  "cells": [
    {
      "cell_type": "markdown",
      "metadata": {
        "id": "view-in-github",
        "colab_type": "text"
      },
      "source": [
        "<a href=\"https://colab.research.google.com/github/AnisaIntania/Desain-dan-Analisis-Algoritma/blob/main/DAA_Pertemuan_4_Anisa.ipynb\" target=\"_parent\"><img src=\"https://colab.research.google.com/assets/colab-badge.svg\" alt=\"Open In Colab\"/></a>"
      ]
    },
    {
      "cell_type": "markdown",
      "source": [
        "**SORTING**"
      ],
      "metadata": {
        "id": "JhSoLpzvmum1"
      }
    },
    {
      "cell_type": "markdown",
      "source": [
        "Contoh Sorting Swap"
      ],
      "metadata": {
        "id": "ZPdeaxEfmx_A"
      }
    },
    {
      "cell_type": "code",
      "execution_count": null,
      "metadata": {
        "colab": {
          "base_uri": "https://localhost:8080/"
        },
        "id": "TitqZieCmm05",
        "outputId": "ab59c3e7-9148-459c-f953-004753d12935"
      },
      "outputs": [
        {
          "output_type": "stream",
          "name": "stdout",
          "text": [
            "kopi teh\n"
          ]
        }
      ],
      "source": [
        "#swap function\n",
        "var1 = \"teh\"\n",
        "var2 = \"kopi\"\n",
        "var1, var2 = var2, var1\n",
        "\n",
        "print(var1, var2)"
      ]
    },
    {
      "cell_type": "markdown",
      "source": [
        "**Latihan: Buat fungsi swap dengan menambahkan variabel ketiga bernama var3!**"
      ],
      "metadata": {
        "id": "1TMWYvemnb8k"
      }
    },
    {
      "cell_type": "code",
      "source": [
        "#swap function\n",
        "var1 = \"teh\"\n",
        "var2 = \"kopi\"\n",
        "var3 = \"susu\"\n",
        "var1, var2, var3 = var3, var2, var1\n",
        "\n",
        "print(var1, var2, var3)"
      ],
      "metadata": {
        "colab": {
          "base_uri": "https://localhost:8080/"
        },
        "id": "nqPaocIWnflB",
        "outputId": "2edf1ed6-c010-4c92-8f63-94670ff0d1ed"
      },
      "execution_count": null,
      "outputs": [
        {
          "output_type": "stream",
          "name": "stdout",
          "text": [
            "susu kopi teh\n"
          ]
        }
      ]
    },
    {
      "cell_type": "markdown",
      "source": [
        "Contoh Bubble Sort (Mengurutkan Data)"
      ],
      "metadata": {
        "id": "RpxtTriCnxWM"
      }
    },
    {
      "cell_type": "code",
      "source": [
        "from typing_extensions import LiteralString\n",
        "list = [25,21,22,24,23,27,26]\n",
        "\n",
        "#proses penukaran bubble sort\n",
        "lastElementIndex = len(list)-1 #membandingkan data 1 dan 2\n",
        "print(0,list)\n",
        "\n",
        "for idx in range(lastElementIndex):\n",
        "  if list[idx]>list[idx+1]: #perbandingan array 0 dan 1\n",
        "    list[idx],list[idx+1]=list[idx+1],list[idx]\n",
        "\n",
        "  print(idx+1,list)\n",
        "  #6 kali pengulangan karena yg index 0 itu soal.\n",
        "  #belum selesai karena 23,24 masih ketuker,\n",
        "  #harus manggil for lagi biar mereka tukeran"
      ],
      "metadata": {
        "colab": {
          "base_uri": "https://localhost:8080/"
        },
        "id": "_39mEl_en1fg",
        "outputId": "ab74c335-e030-42ac-f1c6-2a16805492db"
      },
      "execution_count": null,
      "outputs": [
        {
          "output_type": "stream",
          "name": "stdout",
          "text": [
            "0 [25, 21, 22, 24, 23, 27, 26]\n",
            "1 [21, 25, 22, 24, 23, 27, 26]\n",
            "2 [21, 22, 25, 24, 23, 27, 26]\n",
            "3 [21, 22, 24, 25, 23, 27, 26]\n",
            "4 [21, 22, 24, 23, 25, 27, 26]\n",
            "5 [21, 22, 24, 23, 25, 27, 26]\n",
            "6 [21, 22, 24, 23, 25, 26, 27]\n"
          ]
        }
      ]
    },
    {
      "cell_type": "code",
      "source": [
        "#versi yang udh lengkapnya dari codingan di atas\n",
        "data = [25, 21, 22, 24, 23, 27, 26]\n",
        "\n",
        "lastElementIndex = len(data) - 1\n",
        "print(\"Awal :\", data)\n",
        "\n",
        "# proses bubble sort\n",
        "for passNo in range(lastElementIndex):\n",
        "    for idx in range(lastElementIndex - passNo):\n",
        "        if data[idx] > data[idx+1]:\n",
        "            data[idx], data[idx+1] = data[idx+1], data[idx]\n",
        "        print(f\"Step {passNo+1}.{idx+1}:\", data)\n",
        "\n",
        "\n",
        "print(\"Hasil akhir:\", data)"
      ],
      "metadata": {
        "colab": {
          "base_uri": "https://localhost:8080/"
        },
        "id": "6-z7rwpFz8Bi",
        "outputId": "55de97c8-38e4-4ef5-fa5c-a168d9da04ee"
      },
      "execution_count": null,
      "outputs": [
        {
          "output_type": "stream",
          "name": "stdout",
          "text": [
            "Awal : [25, 21, 22, 24, 23, 27, 26]\n",
            "Step 1.1: [21, 25, 22, 24, 23, 27, 26]\n",
            "Step 1.2: [21, 22, 25, 24, 23, 27, 26]\n",
            "Step 1.3: [21, 22, 24, 25, 23, 27, 26]\n",
            "Step 1.4: [21, 22, 24, 23, 25, 27, 26]\n",
            "Step 1.5: [21, 22, 24, 23, 25, 27, 26]\n",
            "Step 1.6: [21, 22, 24, 23, 25, 26, 27]\n",
            "Step 2.1: [21, 22, 24, 23, 25, 26, 27]\n",
            "Step 2.2: [21, 22, 24, 23, 25, 26, 27]\n",
            "Step 2.3: [21, 22, 23, 24, 25, 26, 27]\n",
            "Step 2.4: [21, 22, 23, 24, 25, 26, 27]\n",
            "Step 2.5: [21, 22, 23, 24, 25, 26, 27]\n",
            "Step 3.1: [21, 22, 23, 24, 25, 26, 27]\n",
            "Step 3.2: [21, 22, 23, 24, 25, 26, 27]\n",
            "Step 3.3: [21, 22, 23, 24, 25, 26, 27]\n",
            "Step 3.4: [21, 22, 23, 24, 25, 26, 27]\n",
            "Step 4.1: [21, 22, 23, 24, 25, 26, 27]\n",
            "Step 4.2: [21, 22, 23, 24, 25, 26, 27]\n",
            "Step 4.3: [21, 22, 23, 24, 25, 26, 27]\n",
            "Step 5.1: [21, 22, 23, 24, 25, 26, 27]\n",
            "Step 5.2: [21, 22, 23, 24, 25, 26, 27]\n",
            "Step 6.1: [21, 22, 23, 24, 25, 26, 27]\n",
            "Hasil akhir: [21, 22, 23, 24, 25, 26, 27]\n"
          ]
        }
      ]
    },
    {
      "cell_type": "code",
      "source": [
        "def bubblesort(list):\n",
        "    lastElementIndex = len(list) - 1\n",
        "\n",
        "    for passNo in range(lastElementIndex, 0, -1):\n",
        "        for idx in range(passNo):\n",
        "            if list[idx] > list[idx+1]:\n",
        "                list[idx], list[idx+1] = list[idx+1], list[idx]\n",
        "    return list\n",
        "\n",
        "# coba dengan data\n",
        "list = [25, 21, 22, 24, 23, 27, 26]\n",
        "print(\"Sebelum sort:\", list)\n",
        "print(\"Sesudah sort:\", bubblesort(list))"
      ],
      "metadata": {
        "colab": {
          "base_uri": "https://localhost:8080/"
        },
        "id": "jWGXsyrrwnp8",
        "outputId": "39cbb62c-cc86-4793-a2f7-74b9059aa61d"
      },
      "execution_count": null,
      "outputs": [
        {
          "output_type": "stream",
          "name": "stdout",
          "text": [
            "Sebelum sort: [25, 21, 22, 24, 23, 27, 26]\n",
            "Sesudah sort: [21, 22, 23, 24, 25, 26, 27]\n"
          ]
        }
      ]
    },
    {
      "cell_type": "code",
      "source": [
        "def BubbleSort(list):\n",
        "  lastElementIndex = len(list)-1\n",
        "  for passNo in range(lastElementIndex,0,-1):\n",
        "    for idx in range(passNo):\n",
        "      if list[idx]>list[idx+1]:\n",
        "        list[idx],list[idx+1]=list[idx+1],list[idx]\n",
        "  return list"
      ],
      "metadata": {
        "id": "Qp-EooN_iRzw"
      },
      "execution_count": 29,
      "outputs": []
    },
    {
      "cell_type": "markdown",
      "source": [
        "**Latihan:**\n",
        "1. **Kasus: Bubble Sort**\n",
        "2. **Problem: Urutkan deret bilangan di bawah ini menggunakan metode sorting bubble sort!**\n",
        "3. **100 20 60 90 40 30 10**"
      ],
      "metadata": {
        "id": "PB_zeCoNpBx2"
      }
    },
    {
      "cell_type": "code",
      "source": [
        "# Daftar bilangan\n",
        "angka = [100, 20, 60, 90, 40, 30, 10]\n",
        "\n",
        "# Bubble Sort\n",
        "n = len(angka)\n",
        "print(\"Sebelum sorting:\", angka)\n",
        "\n",
        "for i in range(n-1):              # jumlah iterasi\n",
        "    for j in range(n-1-i):        # bandingkan elemen bersebelahan\n",
        "        if angka[j] > angka[j+1]: # jika salah urut, tukar\n",
        "            angka[j], angka[j+1] = angka[j+1], angka[j]\n",
        "    print(f\"Iterasi {i+1}:\", angka)\n",
        "\n",
        "print(\"Setelah sorting:\", angka)"
      ],
      "metadata": {
        "colab": {
          "base_uri": "https://localhost:8080/"
        },
        "id": "taOI9q4npCN6",
        "outputId": "c3eea8d2-184c-4763-86e5-33dc8f129604"
      },
      "execution_count": null,
      "outputs": [
        {
          "output_type": "stream",
          "name": "stdout",
          "text": [
            "Sebelum sorting: [100, 20, 60, 90, 40, 30, 10]\n",
            "Iterasi 1: [20, 60, 90, 40, 30, 10, 100]\n",
            "Iterasi 2: [20, 60, 40, 30, 10, 90, 100]\n",
            "Iterasi 3: [20, 40, 30, 10, 60, 90, 100]\n",
            "Iterasi 4: [20, 30, 10, 40, 60, 90, 100]\n",
            "Iterasi 5: [20, 10, 30, 40, 60, 90, 100]\n",
            "Iterasi 6: [10, 20, 30, 40, 60, 90, 100]\n",
            "Setelah sorting: [10, 20, 30, 40, 60, 90, 100]\n"
          ]
        }
      ]
    },
    {
      "cell_type": "markdown",
      "source": [
        "Contoh Insertion Sort: Menyisipkan elemen ke posisi yang benar di bagian kiri"
      ],
      "metadata": {
        "id": "CXg7vhVAp_6B"
      }
    },
    {
      "cell_type": "code",
      "source": [
        "def InsertionSort (list):\n",
        "  for i in range(1, len(list)):\n",
        "    j = i-1\n",
        "    next = list[i]\n",
        "\n",
        "    while (list[j] > next) and (j >= 0):\n",
        "      list[j+1] = list[j]\n",
        "      j=j-1\n",
        "    list[j+1] = next\n",
        "  return list"
      ],
      "metadata": {
        "id": "aSm-sGOYqCp_"
      },
      "execution_count": null,
      "outputs": []
    },
    {
      "cell_type": "code",
      "source": [
        "list = [35,31,32,34,33,37,36]\n"
      ],
      "metadata": {
        "id": "fh2A0Nl83rkk"
      },
      "execution_count": null,
      "outputs": []
    },
    {
      "cell_type": "code",
      "source": [
        "list"
      ],
      "metadata": {
        "id": "AgtH278B3wUr",
        "outputId": "93c35ac6-8f42-4179-9af3-4dd64811c9e6",
        "colab": {
          "base_uri": "https://localhost:8080/"
        }
      },
      "execution_count": null,
      "outputs": [
        {
          "output_type": "execute_result",
          "data": {
            "text/plain": [
              "[35, 31, 32, 34, 33, 37, 36]"
            ]
          },
          "metadata": {},
          "execution_count": 20
        }
      ]
    },
    {
      "cell_type": "code",
      "source": [
        "InsertionSort(list)"
      ],
      "metadata": {
        "id": "sy_GDLFT3yqY",
        "outputId": "114d7ede-8e7c-4064-f0f9-1935e454858e",
        "colab": {
          "base_uri": "https://localhost:8080/"
        }
      },
      "execution_count": null,
      "outputs": [
        {
          "output_type": "execute_result",
          "data": {
            "text/plain": [
              "[31, 32, 33, 34, 35, 36, 37]"
            ]
          },
          "metadata": {},
          "execution_count": 21
        }
      ]
    },
    {
      "cell_type": "markdown",
      "source": [
        "**Latihan Insert Sort**"
      ],
      "metadata": {
        "id": "HfuslaD0vLVt"
      }
    },
    {
      "cell_type": "code",
      "source": [
        "def InsertionSort(list):\n",
        "  for i in range(1, len(list)):\n",
        "    j = i-1\n",
        "    next = list[i]\n",
        "\n",
        "    while (list[j] > next) and (j >= 0):\n",
        "      list[j+1] = list[j]\n",
        "      j=j-1\n",
        "    list[j+1] = next\n",
        "    return list"
      ],
      "metadata": {
        "id": "2hwDgqO_WMY8"
      },
      "execution_count": 1,
      "outputs": []
    },
    {
      "cell_type": "code",
      "source": [
        "list  = [89,12,57,16,25,11,75]"
      ],
      "metadata": {
        "id": "wT3n4OOfWRVD"
      },
      "execution_count": 2,
      "outputs": []
    },
    {
      "cell_type": "code",
      "source": [
        "list"
      ],
      "metadata": {
        "colab": {
          "base_uri": "https://localhost:8080/"
        },
        "id": "4YO2-fkWWXWm",
        "outputId": "8ca9285a-5f62-440b-d641-c0f87adff4b3"
      },
      "execution_count": 3,
      "outputs": [
        {
          "output_type": "execute_result",
          "data": {
            "text/plain": [
              "[89, 12, 57, 16, 25, 11, 75]"
            ]
          },
          "metadata": {},
          "execution_count": 3
        }
      ]
    },
    {
      "cell_type": "code",
      "source": [
        "InsertionSort(list)"
      ],
      "metadata": {
        "colab": {
          "base_uri": "https://localhost:8080/"
        },
        "id": "QHC3LkjnWaIU",
        "outputId": "e807a403-7a7f-4429-b852-f04cacb92ba0"
      },
      "execution_count": 4,
      "outputs": [
        {
          "output_type": "execute_result",
          "data": {
            "text/plain": [
              "[12, 89, 57, 16, 25, 11, 75]"
            ]
          },
          "metadata": {},
          "execution_count": 4
        }
      ]
    },
    {
      "cell_type": "code",
      "source": [
        "list"
      ],
      "metadata": {
        "colab": {
          "base_uri": "https://localhost:8080/"
        },
        "id": "NSGG0pwHWgMt",
        "outputId": "67dee858-b0e5-456f-b25b-42059c5ce6b7"
      },
      "execution_count": 5,
      "outputs": [
        {
          "output_type": "execute_result",
          "data": {
            "text/plain": [
              "[12, 89, 57, 16, 25, 11, 75]"
            ]
          },
          "metadata": {},
          "execution_count": 5
        }
      ]
    },
    {
      "cell_type": "markdown",
      "source": [
        "**Selection Sort**"
      ],
      "metadata": {
        "id": "Wq4L3AwxXBAC"
      }
    },
    {
      "cell_type": "code",
      "source": [
        "def SelectionSort(list):\n",
        "  for fill_slot in range(len(list) - 1, 0, -1):\n",
        "    max_index = 0\n",
        "    for location in range(1, fill_slot + 1):\n",
        "      if list[location] > list[max_index]:\n",
        "        max_index = location\n",
        "    list[fill_slot],list[max_index] = list[max_index],list[fill_slot]\n",
        "  return list"
      ],
      "metadata": {
        "id": "4RpE6myyXNst"
      },
      "execution_count": 7,
      "outputs": []
    },
    {
      "cell_type": "code",
      "source": [
        "list = [70,15,25,19,34,44]\n",
        "SelectionSort(list)"
      ],
      "metadata": {
        "colab": {
          "base_uri": "https://localhost:8080/"
        },
        "id": "S64_73jxXTBU",
        "outputId": "1da21cd7-8168-40e2-9ef0-4cb833975047"
      },
      "execution_count": 8,
      "outputs": [
        {
          "output_type": "execute_result",
          "data": {
            "text/plain": [
              "[15, 19, 25, 34, 44, 70]"
            ]
          },
          "metadata": {},
          "execution_count": 8
        }
      ]
    },
    {
      "cell_type": "code",
      "source": [
        "list"
      ],
      "metadata": {
        "colab": {
          "base_uri": "https://localhost:8080/"
        },
        "id": "IPswDjmBXVNb",
        "outputId": "1b37f36a-3aa8-4bfb-bf10-989da2273c7f"
      },
      "execution_count": 9,
      "outputs": [
        {
          "output_type": "execute_result",
          "data": {
            "text/plain": [
              "[15, 19, 25, 34, 44, 70]"
            ]
          },
          "metadata": {},
          "execution_count": 9
        }
      ]
    },
    {
      "cell_type": "code",
      "source": [
        "list = [70,15,25,19,34,44]\n",
        "SelectionSort(list)\n",
        "print(list)"
      ],
      "metadata": {
        "colab": {
          "base_uri": "https://localhost:8080/"
        },
        "id": "KuT3b33GXZBL",
        "outputId": "9eda4cd8-d765-4ddf-c13b-6d159f526351"
      },
      "execution_count": 10,
      "outputs": [
        {
          "output_type": "stream",
          "name": "stdout",
          "text": [
            "[15, 19, 25, 34, 44, 70]\n"
          ]
        }
      ]
    },
    {
      "cell_type": "markdown",
      "source": [
        "**Latihan Selection Sort**"
      ],
      "metadata": {
        "id": "MX-h6ImIXc4v"
      }
    },
    {
      "cell_type": "code",
      "source": [
        "def SelectionSort(list):\n",
        "  for fill_slot in range(len(list) - 1, 0, -1):\n",
        "    max_index = 0\n",
        "    for location in range(1, fill_slot + 1):\n",
        "      if list[location] > list[max_index]:\n",
        "        max_index = location\n",
        "    list[fill_slot],list[max_index] = list[max_index],list[fill_slot]\n",
        "  return list"
      ],
      "metadata": {
        "id": "NuU2zy-oXibI"
      },
      "execution_count": 11,
      "outputs": []
    },
    {
      "cell_type": "code",
      "source": [
        "list = [89,12,57,16,25]\n",
        "SelectionSort(list)"
      ],
      "metadata": {
        "colab": {
          "base_uri": "https://localhost:8080/"
        },
        "id": "3YKTTIOVegD_",
        "outputId": "55b5017d-da33-47b8-8a52-6e5599586879"
      },
      "execution_count": 13,
      "outputs": [
        {
          "output_type": "execute_result",
          "data": {
            "text/plain": [
              "[12, 16, 25, 57, 89]"
            ]
          },
          "metadata": {},
          "execution_count": 13
        }
      ]
    },
    {
      "cell_type": "code",
      "source": [
        "list"
      ],
      "metadata": {
        "colab": {
          "base_uri": "https://localhost:8080/"
        },
        "id": "ETI1hQP1eoPV",
        "outputId": "1af38b3c-2116-4ab9-c138-1b5bc24109f6"
      },
      "execution_count": 14,
      "outputs": [
        {
          "output_type": "execute_result",
          "data": {
            "text/plain": [
              "[12, 16, 25, 57, 89]"
            ]
          },
          "metadata": {},
          "execution_count": 14
        }
      ]
    },
    {
      "cell_type": "code",
      "source": [
        "list = [89,12,57,16,25]\n",
        "SelectionSort(list)\n",
        "print(list)"
      ],
      "metadata": {
        "colab": {
          "base_uri": "https://localhost:8080/"
        },
        "id": "ee_9lkIae2ym",
        "outputId": "3fd20743-76d9-4466-b675-bfc6112cc315"
      },
      "execution_count": 15,
      "outputs": [
        {
          "output_type": "stream",
          "name": "stdout",
          "text": [
            "[12, 16, 25, 57, 89]\n"
          ]
        }
      ]
    },
    {
      "cell_type": "markdown",
      "source": [
        "**Linear Search**"
      ],
      "metadata": {
        "id": "lTV8RO54e7BJ"
      }
    },
    {
      "cell_type": "code",
      "source": [
        "def LinearSearch(list, item):\n",
        "  index = 0\n",
        "  found = False\n",
        "\n",
        "  while index < len(list) and found is False:\n",
        "    if list[index] == item:\n",
        "      found = True\n",
        "    else:\n",
        "      index = index + 1\n",
        "  return found"
      ],
      "metadata": {
        "id": "Fc3bXvkoe_JL"
      },
      "execution_count": 16,
      "outputs": []
    },
    {
      "cell_type": "code",
      "source": [
        "list = [12, 33, 11, 99, 22, 55, 90]\n",
        "print(LinearSearch(list, 12))\n",
        "print(LinearSearch(list, 91))"
      ],
      "metadata": {
        "colab": {
          "base_uri": "https://localhost:8080/"
        },
        "id": "iB5yGqzTfB9W",
        "outputId": "57866825-1c31-4c94-d515-b3026a48d285"
      },
      "execution_count": 17,
      "outputs": [
        {
          "output_type": "stream",
          "name": "stdout",
          "text": [
            "True\n",
            "False\n"
          ]
        }
      ]
    },
    {
      "cell_type": "markdown",
      "source": [
        "**Latihan Linear Search**"
      ],
      "metadata": {
        "id": "aZrf_kPHfRnp"
      }
    },
    {
      "cell_type": "code",
      "source": [
        "def LinearSearch(list, item):\n",
        "  index = 0\n",
        "  found = False\n",
        "\n",
        "  while index < len(list) and found is False:\n",
        "    if list[index] == item:\n",
        "      found = True\n",
        "    else:\n",
        "      index = index + 1\n",
        "  return found"
      ],
      "metadata": {
        "id": "bXh0sThxfXHI"
      },
      "execution_count": 18,
      "outputs": []
    },
    {
      "cell_type": "code",
      "source": [
        "list = ['y', 'u', 'i', 'w', 'o', 'a', 'q', 'u', 'j', 'p']\n",
        "print(LinearSearch(list, 'a'))\n",
        "print(LinearSearch(list, 'z'))"
      ],
      "metadata": {
        "colab": {
          "base_uri": "https://localhost:8080/"
        },
        "id": "dpRbemYZfeWV",
        "outputId": "54a11e1e-fac8-4572-96c0-eaeae45bd6e9"
      },
      "execution_count": 19,
      "outputs": [
        {
          "output_type": "stream",
          "name": "stdout",
          "text": [
            "True\n",
            "False\n"
          ]
        }
      ]
    },
    {
      "cell_type": "markdown",
      "source": [
        "**Binary Search**"
      ],
      "metadata": {
        "id": "QOg_ssGSfhe3"
      }
    },
    {
      "cell_type": "code",
      "source": [
        "def BinarySearch(list,item):\n",
        "  first = 0\n",
        "  last= len(list)-1\n",
        "  found = False\n",
        "\n",
        "  while first <= last and not found:\n",
        "    midpoint = (first + last)//2\n",
        "    if list[midpoint] == item:\n",
        "      found = True\n",
        "    else:\n",
        "      if item < list[midpoint]:\n",
        "          last = midpoint-1\n",
        "      else:\n",
        "          first = midpoint+1\n",
        "  return found"
      ],
      "metadata": {
        "id": "HEooLF-hfka6"
      },
      "execution_count": 20,
      "outputs": []
    },
    {
      "cell_type": "code",
      "source": [
        "list = [12, 33, 11, 99, 22, 55, 90]\n",
        "sorted_list = BubbleSort(list)\n",
        "print(BinarySearch(list,12))\n",
        "print(BinarySearch(list, 91))"
      ],
      "metadata": {
        "colab": {
          "base_uri": "https://localhost:8080/"
        },
        "id": "kbzWT6-IfcUQ",
        "outputId": "60aef925-b14d-4085-8ca9-59e079862adb"
      },
      "execution_count": 33,
      "outputs": [
        {
          "output_type": "stream",
          "name": "stdout",
          "text": [
            "True\n",
            "False\n"
          ]
        }
      ]
    },
    {
      "cell_type": "markdown",
      "source": [
        "**Latihan Binary Search**"
      ],
      "metadata": {
        "id": "7LYnK25Qf82m"
      }
    },
    {
      "cell_type": "code",
      "source": [
        "def BinarySearch(list,item):\n",
        "  first = 0\n",
        "  last= len(list)-1\n",
        "  found = False\n",
        "\n",
        "  while first <= last and not found:\n",
        "    midpoint = (first + last)//2\n",
        "    if list[midpoint] == item:\n",
        "      found = True\n",
        "    else:\n",
        "      if item < list[midpoint]:\n",
        "          last = midpoint-1\n",
        "      else:\n",
        "          first = midpoint+1\n",
        "  return found"
      ],
      "metadata": {
        "id": "wyTX1BrIgHs9"
      },
      "execution_count": 23,
      "outputs": []
    },
    {
      "cell_type": "code",
      "source": [
        "list = ['y', 'u', 'i', 'w', 'o', 'a', 'q', 'u', 'j', 'p']\n",
        "sorted_list = BubbleSort(list)\n",
        "print(BinarySearch(sorted_list, 'a'))\n",
        "print(BinarySearch(sorted_list, 'z'))"
      ],
      "metadata": {
        "colab": {
          "base_uri": "https://localhost:8080/"
        },
        "id": "vX3XHHQAgNpJ",
        "outputId": "65a9ae15-d49c-4407-9915-ea7fc256ffbe"
      },
      "execution_count": 30,
      "outputs": [
        {
          "output_type": "stream",
          "name": "stdout",
          "text": [
            "True\n",
            "False\n"
          ]
        }
      ]
    },
    {
      "cell_type": "markdown",
      "source": [
        "Interpolation Search"
      ],
      "metadata": {
        "id": "C3KMlHMchz-f"
      }
    },
    {
      "cell_type": "code",
      "source": [
        "def IntPolasearch(list,x):\n",
        "  idx0 = 0\n",
        "  idxn = (len(list) -1)\n",
        "  found = False\n",
        "  while idx0 <= idxn and x >= list [idx0] and x <= list[idxn]:\n",
        "\n",
        "    mid = idx0 +int(((float(idxn - idx0)/( list [idxn] - list[idx0])) * ( x - list[idx0])))\n",
        "\n",
        "    if list [mid] == x:\n",
        "      found = True\n",
        "      return found\n",
        "\n",
        "    if list[mid] < x:\n",
        "      idx0 = mid + 1\n",
        "    else:\n",
        "      idxn = mid - 1\n",
        "  return found"
      ],
      "metadata": {
        "id": "GmPu87Z6h32q"
      },
      "execution_count": 25,
      "outputs": []
    },
    {
      "cell_type": "code",
      "source": [
        "list = [12,33,11,99,22,55,90]\n",
        "sorted_list = BubbleSort(list)\n",
        "print(IntPolasearch(list,12))\n",
        "print(IntPolasearch(list, 91))"
      ],
      "metadata": {
        "colab": {
          "base_uri": "https://localhost:8080/"
        },
        "id": "5CHPZMsjh7rL",
        "outputId": "95a1ccf3-9c05-4017-9b6e-3d67f74441d2"
      },
      "execution_count": 31,
      "outputs": [
        {
          "output_type": "stream",
          "name": "stdout",
          "text": [
            "True\n",
            "False\n"
          ]
        }
      ]
    },
    {
      "cell_type": "markdown",
      "source": [
        "\n",
        "Latihan IntPolasearch"
      ],
      "metadata": {
        "id": "B2YNhlyCh-E4"
      }
    },
    {
      "cell_type": "code",
      "source": [
        "def IntPolasearch(list,x):\n",
        "  idx0 = 0\n",
        "  idxn = (len(list) -1)\n",
        "  found = False\n",
        "  while idx0 <= idxn and x >= list [idx0] and x <= list[idxn]:\n",
        "\n",
        "    mid = idx0 +int(((float(idxn - idx0)/( list [idxn] - list[idx0])) * ( x - list[idx0])))\n",
        "\n",
        "    if list [mid] == x:\n",
        "      found = True\n",
        "      return found\n",
        "\n",
        "    if list[mid] < x:\n",
        "      idx0 = mid + 1\n",
        "    else:\n",
        "      idxn = mid - 1\n",
        "  return found"
      ],
      "metadata": {
        "id": "ljQzcJ6ih-sW"
      },
      "execution_count": 27,
      "outputs": []
    },
    {
      "cell_type": "code",
      "source": [
        "list_data = ['y', 'u', 'i', 'w', 'o', 'a', 'q', 'u', 'j']\n",
        "sorted_list = BubbleSort(list_data)\n",
        "print(BinarySearch(sorted_list, 'u'))\n",
        "print(BinarySearch(sorted_list, 'z'))"
      ],
      "metadata": {
        "colab": {
          "base_uri": "https://localhost:8080/"
        },
        "id": "2nWC7qyyiBj9",
        "outputId": "89bc1503-70a1-410a-8623-4e04bb6607cb"
      },
      "execution_count": 32,
      "outputs": [
        {
          "output_type": "stream",
          "name": "stdout",
          "text": [
            "True\n",
            "False\n"
          ]
        }
      ]
    }
  ]
}